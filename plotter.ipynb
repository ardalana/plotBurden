{
 "cells": [
  {
   "cell_type": "markdown",
   "metadata": {},
   "source": [
    "Python program in Jupyter Lab to extract data from TCGA MAF-file pan-cancer data and plot mutations in specified genes ranked by total mutational burden for each of the 96 mutation types in trinucleotide context."
   ]
  },
  {
   "cell_type": "code",
   "execution_count": 1,
   "metadata": {},
   "outputs": [],
   "source": [
    "cancer_type='uterineCorpusEndometrialCarcinoma'\n",
    "gene='PTEN'"
   ]
  },
  {
   "cell_type": "code",
   "execution_count": 2,
   "metadata": {},
   "outputs": [
    {
     "data": {
      "text/plain": [
       "DataTransformerRegistry.enable('default')"
      ]
     },
     "execution_count": 2,
     "metadata": {},
     "output_type": "execute_result"
    }
   ],
   "source": [
    "import pandas\n",
    "import altair\n",
    "from altair import Axis,Chart,Color,Scale,X,Y\n",
    "altair.data_transformers.enable('default',max_rows=None)"
   ]
  },
  {
   "cell_type": "code",
   "execution_count": 3,
   "metadata": {},
   "outputs": [],
   "source": [
    "bases=('A','C','G','T')\n",
    "compDic={'A':'T','T':'A','C':'G','G':'C'}\n",
    "desiredVar=('Nonsense_Mutation','Missense_Mutation','Silent')"
   ]
  },
  {
   "cell_type": "code",
   "execution_count": 4,
   "metadata": {},
   "outputs": [],
   "source": [
    "def processLine(row):\n",
    "    if row['Reference_Allele'] in ('C','T') and row['Tumor_Seq_Allele2'] in bases: return row['Reference_Allele']+'>'+row['Tumor_Seq_Allele2']+' '+row['CONTEXT'][4:7]\n",
    "    if row['Reference_Allele'] in ('A','G') and row['Tumor_Seq_Allele2'] in bases: return str(compDic.get(row['Reference_Allele']))+'>'+str(compDic.get(row['Tumor_Seq_Allele2']))+' '+''.join(compDic.get(i) for i in row['CONTEXT'][4:7][::-1])\n",
    "    if row['Reference_Allele'] not in bases or row['Tumor_Seq_Allele2'] not in bases: return 'NA'"
   ]
  },
  {
   "cell_type": "code",
   "execution_count": 5,
   "metadata": {},
   "outputs": [],
   "source": [
    "df=pandas.read_csv(cancer_type,sep='\\t')\n",
    "df['Mutation_Type']=df.apply(lambda row:processLine(row),axis=1)\n",
    "df=df[(df['Mutation_Type']!='NA')&(df['Variant_Classification'].isin(desiredVar))]"
   ]
  },
  {
   "cell_type": "code",
   "execution_count": 6,
   "metadata": {},
   "outputs": [],
   "source": [
    "df['Mutation_Type_Count']=df.groupby(['Tumor_Sample_Barcode','Mutation_Type'])['Mutation_Type'].transform('count')\n",
    "df=df[['Hugo_Symbol','Variant_Classification','Tumor_Sample_Barcode','Mutation_Type','Mutation_Type_Count']]\n",
    "df_deduplicated=df.drop_duplicates(subset=('Tumor_Sample_Barcode','Mutation_Type'))"
   ]
  },
  {
   "cell_type": "code",
   "execution_count": 7,
   "metadata": {},
   "outputs": [
    {
     "name": "stderr",
     "output_type": "stream",
     "text": [
      "/anaconda3/lib/python3.7/site-packages/ipykernel_launcher.py:1: SettingWithCopyWarning: \n",
      "A value is trying to be set on a copy of a slice from a DataFrame.\n",
      "Try using .loc[row_indexer,col_indexer] = value instead\n",
      "\n",
      "See the caveats in the documentation: http://pandas.pydata.org/pandas-docs/stable/indexing.html#indexing-view-versus-copy\n",
      "  \"\"\"Entry point for launching an IPython kernel.\n"
     ]
    }
   ],
   "source": [
    "df_deduplicated['Patient_Mutation_Type_Rank']=df_deduplicated.groupby('Mutation_Type')['Mutation_Type_Count'].rank(method='first',ascending=False)\n",
    "df_deduplicated_reduced=df_deduplicated[['Tumor_Sample_Barcode','Mutation_Type','Patient_Mutation_Type_Rank']]"
   ]
  },
  {
   "cell_type": "code",
   "execution_count": 8,
   "metadata": {},
   "outputs": [],
   "source": [
    "df_ranked=pandas.merge(df,df_deduplicated_reduced,how='left',on=['Tumor_Sample_Barcode','Mutation_Type'])"
   ]
  },
  {
   "cell_type": "code",
   "execution_count": 9,
   "metadata": {},
   "outputs": [],
   "source": [
    "df_ranked['Patient_Mutation_Type_Rank_Max']=df_ranked.groupby('Mutation_Type')['Patient_Mutation_Type_Rank'].transform(max)\n",
    "df_ranked['Patient_Mutation_Type_Rank_Of_One']=1-(df_ranked['Patient_Mutation_Type_Rank']/df_ranked['Patient_Mutation_Type_Rank_Max'])"
   ]
  },
  {
   "cell_type": "code",
   "execution_count": 10,
   "metadata": {},
   "outputs": [
    {
     "data": {
      "application/vnd.vegalite.v2+json": {
       "$schema": "https://vega.github.io/schema/vega-lite/v2.6.0.json",
       "config": {
        "axis": {
         "labelFont": "Courier New",
         "labelFontSize": 12,
         "titleFont": "Courier New",
         "titleFontSize": 14
        },
        "legend": {
         "labelFont": "Courier New",
         "labelFontSize": 12,
         "titleFont": "Courier New",
         "titleFontSize": 12
        },
        "view": {
         "height": 300,
         "width": 400
        }
       },
       "data": {
        "name": "data-fbe166c004c8633b60e7550e964d1ab4"
       },
       "datasets": {
        "data-fbe166c004c8633b60e7550e964d1ab4": [
         {
          "Hugo_Symbol": "PTEN",
          "Mutation_Type": "C>T TCG",
          "Mutation_Type_Count": 84,
          "Patient_Mutation_Type_Rank": 71,
          "Patient_Mutation_Type_Rank_Max": 514,
          "Patient_Mutation_Type_Rank_Of_One": 0.8618677042801557,
          "Tumor_Sample_Barcode": "TCGA-AJ-A8CT-01A-11D-A37N-09",
          "Variant_Classification": "Missense_Mutation"
         },
         {
          "Hugo_Symbol": "PTEN",
          "Mutation_Type": "C>G ACG",
          "Mutation_Type_Count": 1,
          "Patient_Mutation_Type_Rank": 58,
          "Patient_Mutation_Type_Rank_Max": 190,
          "Patient_Mutation_Type_Rank_Of_One": 0.6947368421052631,
          "Tumor_Sample_Barcode": "TCGA-A5-A0GM-01A-11W-A062-09",
          "Variant_Classification": "Missense_Mutation"
         },
         {
          "Hugo_Symbol": "PTEN",
          "Mutation_Type": "T>G CTG",
          "Mutation_Type_Count": 1,
          "Patient_Mutation_Type_Rank": 154,
          "Patient_Mutation_Type_Rank_Max": 249,
          "Patient_Mutation_Type_Rank_Of_One": 0.38152610441767065,
          "Tumor_Sample_Barcode": "TCGA-D1-A17N-01A-11D-A12J-09",
          "Variant_Classification": "Missense_Mutation"
         },
         {
          "Hugo_Symbol": "PTEN",
          "Mutation_Type": "C>G TCA",
          "Mutation_Type_Count": 1,
          "Patient_Mutation_Type_Rank": 109,
          "Patient_Mutation_Type_Rank_Max": 224,
          "Patient_Mutation_Type_Rank_Of_One": 0.5133928571428572,
          "Tumor_Sample_Barcode": "TCGA-D1-A17N-01A-11D-A12J-09",
          "Variant_Classification": "Missense_Mutation"
         },
         {
          "Hugo_Symbol": "PTEN",
          "Mutation_Type": "C>A TCT",
          "Mutation_Type_Count": 8,
          "Patient_Mutation_Type_Rank": 75,
          "Patient_Mutation_Type_Rank_Max": 389,
          "Patient_Mutation_Type_Rank_Of_One": 0.8071979434447301,
          "Tumor_Sample_Barcode": "TCGA-B5-A0K9-01A-21D-A10O-09",
          "Variant_Classification": "Nonsense_Mutation"
         },
         {
          "Hugo_Symbol": "PTEN",
          "Mutation_Type": "C>G ACG",
          "Mutation_Type_Count": 2,
          "Patient_Mutation_Type_Rank": 12,
          "Patient_Mutation_Type_Rank_Max": 190,
          "Patient_Mutation_Type_Rank_Of_One": 0.9368421052631579,
          "Tumor_Sample_Barcode": "TCGA-B5-A11P-01B-11D-A14G-09",
          "Variant_Classification": "Missense_Mutation"
         },
         {
          "Hugo_Symbol": "PTEN",
          "Mutation_Type": "C>T ACG",
          "Mutation_Type_Count": 69,
          "Patient_Mutation_Type_Rank": 96,
          "Patient_Mutation_Type_Rank_Max": 524,
          "Patient_Mutation_Type_Rank_Of_One": 0.816793893129771,
          "Tumor_Sample_Barcode": "TCGA-AP-A0LT-01A-11W-A062-09",
          "Variant_Classification": "Nonsense_Mutation"
         },
         {
          "Hugo_Symbol": "PTEN",
          "Mutation_Type": "T>A GTC",
          "Mutation_Type_Count": 1,
          "Patient_Mutation_Type_Rank": 100,
          "Patient_Mutation_Type_Rank_Max": 198,
          "Patient_Mutation_Type_Rank_Of_One": 0.4949494949494949,
          "Tumor_Sample_Barcode": "TCGA-5S-A9Q8-01A-11D-A403-09",
          "Variant_Classification": "Missense_Mutation"
         },
         {
          "Hugo_Symbol": "PTEN",
          "Mutation_Type": "T>C ATA",
          "Mutation_Type_Count": 1,
          "Patient_Mutation_Type_Rank": 216,
          "Patient_Mutation_Type_Rank_Max": 334,
          "Patient_Mutation_Type_Rank_Of_One": 0.3532934131736527,
          "Tumor_Sample_Barcode": "TCGA-B5-A0K7-01A-11W-A10C-09",
          "Variant_Classification": "Missense_Mutation"
         },
         {
          "Hugo_Symbol": "PTEN",
          "Mutation_Type": "C>A TCT",
          "Mutation_Type_Count": 3069,
          "Patient_Mutation_Type_Rank": 3,
          "Patient_Mutation_Type_Rank_Max": 389,
          "Patient_Mutation_Type_Rank_Of_One": 0.9922879177377892,
          "Tumor_Sample_Barcode": "TCGA-B5-A0JY-01A-11D-A10B-09",
          "Variant_Classification": "Nonsense_Mutation"
         },
         {
          "Hugo_Symbol": "PTEN",
          "Mutation_Type": "C>A CCT",
          "Mutation_Type_Count": 253,
          "Patient_Mutation_Type_Rank": 28,
          "Patient_Mutation_Type_Rank_Max": 342,
          "Patient_Mutation_Type_Rank_Of_One": 0.9181286549707602,
          "Tumor_Sample_Barcode": "TCGA-B5-A0JY-01A-11D-A10B-09",
          "Variant_Classification": "Missense_Mutation"
         },
         {
          "Hugo_Symbol": "PTEN",
          "Mutation_Type": "T>G TTT",
          "Mutation_Type_Count": 446,
          "Patient_Mutation_Type_Rank": 9,
          "Patient_Mutation_Type_Rank_Max": 207,
          "Patient_Mutation_Type_Rank_Of_One": 0.9565217391304348,
          "Tumor_Sample_Barcode": "TCGA-B5-A0JY-01A-11D-A10B-09",
          "Variant_Classification": "Missense_Mutation"
         },
         {
          "Hugo_Symbol": "PTEN",
          "Mutation_Type": "T>A GTC",
          "Mutation_Type_Count": 1,
          "Patient_Mutation_Type_Rank": 103,
          "Patient_Mutation_Type_Rank_Max": 198,
          "Patient_Mutation_Type_Rank_Of_One": 0.4797979797979798,
          "Tumor_Sample_Barcode": "TCGA-DI-A1BY-01A-21D-A135-09",
          "Variant_Classification": "Missense_Mutation"
         },
         {
          "Hugo_Symbol": "PTEN",
          "Mutation_Type": "C>A ACC",
          "Mutation_Type_Count": 3,
          "Patient_Mutation_Type_Rank": 87,
          "Patient_Mutation_Type_Rank_Max": 317,
          "Patient_Mutation_Type_Rank_Of_One": 0.725552050473186,
          "Tumor_Sample_Barcode": "TCGA-B5-A0JV-01A-11D-A10B-09",
          "Variant_Classification": "Missense_Mutation"
         },
         {
          "Hugo_Symbol": "PTEN",
          "Mutation_Type": "C>T ACG",
          "Mutation_Type_Count": 40,
          "Patient_Mutation_Type_Rank": 158,
          "Patient_Mutation_Type_Rank_Max": 524,
          "Patient_Mutation_Type_Rank_Of_One": 0.6984732824427481,
          "Tumor_Sample_Barcode": "TCGA-AX-A05Y-01A-11W-A027-09",
          "Variant_Classification": "Nonsense_Mutation"
         },
         {
          "Hugo_Symbol": "PTEN",
          "Mutation_Type": "C>T TCG",
          "Mutation_Type_Count": 7,
          "Patient_Mutation_Type_Rank": 245,
          "Patient_Mutation_Type_Rank_Max": 514,
          "Patient_Mutation_Type_Rank_Of_One": 0.5233463035019454,
          "Tumor_Sample_Barcode": "TCGA-A5-A0GE-01A-11W-A062-09",
          "Variant_Classification": "Missense_Mutation"
         },
         {
          "Hugo_Symbol": "PTEN",
          "Mutation_Type": "C>A CCT",
          "Mutation_Type_Count": 547,
          "Patient_Mutation_Type_Rank": 15,
          "Patient_Mutation_Type_Rank_Max": 342,
          "Patient_Mutation_Type_Rank_Of_One": 0.956140350877193,
          "Tumor_Sample_Barcode": "TCGA-FI-A2D5-01A-11D-A17D-09",
          "Variant_Classification": "Missense_Mutation"
         },
         {
          "Hugo_Symbol": "PTEN",
          "Mutation_Type": "C>A TCA",
          "Mutation_Type_Count": 66,
          "Patient_Mutation_Type_Rank": 32,
          "Patient_Mutation_Type_Rank_Max": 334,
          "Patient_Mutation_Type_Rank_Of_One": 0.9041916167664671,
          "Tumor_Sample_Barcode": "TCGA-FI-A2D5-01A-11D-A17D-09",
          "Variant_Classification": "Nonsense_Mutation"
         },
         {
          "Hugo_Symbol": "PTEN",
          "Mutation_Type": "T>G ATC",
          "Mutation_Type_Count": 37,
          "Patient_Mutation_Type_Rank": 9,
          "Patient_Mutation_Type_Rank_Max": 175,
          "Patient_Mutation_Type_Rank_Of_One": 0.9485714285714286,
          "Tumor_Sample_Barcode": "TCGA-FI-A2D5-01A-11D-A17D-09",
          "Variant_Classification": "Nonsense_Mutation"
         },
         {
          "Hugo_Symbol": "PTEN",
          "Mutation_Type": "C>T TCG",
          "Mutation_Type_Count": 1624,
          "Patient_Mutation_Type_Rank": 19,
          "Patient_Mutation_Type_Rank_Max": 514,
          "Patient_Mutation_Type_Rank_Of_One": 0.9630350194552529,
          "Tumor_Sample_Barcode": "TCGA-FI-A2D5-01A-11D-A17D-09",
          "Variant_Classification": "Missense_Mutation"
         },
         {
          "Hugo_Symbol": "PTEN",
          "Mutation_Type": "C>T GCG",
          "Mutation_Type_Count": 2902,
          "Patient_Mutation_Type_Rank": 3,
          "Patient_Mutation_Type_Rank_Max": 524,
          "Patient_Mutation_Type_Rank_Of_One": 0.9942748091603053,
          "Tumor_Sample_Barcode": "TCGA-FI-A2D5-01A-11D-A17D-09",
          "Variant_Classification": "Missense_Mutation"
         },
         {
          "Hugo_Symbol": "PTEN",
          "Mutation_Type": "C>T GCC",
          "Mutation_Type_Count": 115,
          "Patient_Mutation_Type_Rank": 44,
          "Patient_Mutation_Type_Rank_Max": 423,
          "Patient_Mutation_Type_Rank_Of_One": 0.8959810874704491,
          "Tumor_Sample_Barcode": "TCGA-EY-A1GU-01A-11D-A13L-09",
          "Variant_Classification": "Missense_Mutation"
         },
         {
          "Hugo_Symbol": "PTEN",
          "Mutation_Type": "C>T GCT",
          "Mutation_Type_Count": 80,
          "Patient_Mutation_Type_Rank": 46,
          "Patient_Mutation_Type_Rank_Max": 394,
          "Patient_Mutation_Type_Rank_Of_One": 0.883248730964467,
          "Tumor_Sample_Barcode": "TCGA-EY-A1GU-01A-11D-A13L-09",
          "Variant_Classification": "Missense_Mutation"
         },
         {
          "Hugo_Symbol": "PTEN",
          "Mutation_Type": "T>G TTA",
          "Mutation_Type_Count": 2,
          "Patient_Mutation_Type_Rank": 49,
          "Patient_Mutation_Type_Rank_Max": 106,
          "Patient_Mutation_Type_Rank_Of_One": 0.5377358490566038,
          "Tumor_Sample_Barcode": "TCGA-B5-A11L-01B-21D-A13L-09",
          "Variant_Classification": "Nonsense_Mutation"
         },
         {
          "Hugo_Symbol": "PTEN",
          "Mutation_Type": "C>A TCC",
          "Mutation_Type_Count": 2,
          "Patient_Mutation_Type_Rank": 175,
          "Patient_Mutation_Type_Rank_Max": 391,
          "Patient_Mutation_Type_Rank_Of_One": 0.5524296675191815,
          "Tumor_Sample_Barcode": "TCGA-B5-A11L-01B-21D-A13L-09",
          "Variant_Classification": "Nonsense_Mutation"
         },
         {
          "Hugo_Symbol": "PTEN",
          "Mutation_Type": "T>G ATC",
          "Mutation_Type_Count": 1,
          "Patient_Mutation_Type_Rank": 93,
          "Patient_Mutation_Type_Rank_Max": 175,
          "Patient_Mutation_Type_Rank_Of_One": 0.4685714285714285,
          "Tumor_Sample_Barcode": "TCGA-D1-A17B-01A-22D-A12J-09",
          "Variant_Classification": "Nonsense_Mutation"
         },
         {
          "Hugo_Symbol": "PTEN",
          "Mutation_Type": "C>T TCG",
          "Mutation_Type_Count": 2688,
          "Patient_Mutation_Type_Rank": 3,
          "Patient_Mutation_Type_Rank_Max": 514,
          "Patient_Mutation_Type_Rank_Of_One": 0.9941634241245136,
          "Tumor_Sample_Barcode": "TCGA-BS-A0UV-01A-11D-A10B-09",
          "Variant_Classification": "Missense_Mutation"
         },
         {
          "Hugo_Symbol": "PTEN",
          "Mutation_Type": "C>A ACT",
          "Mutation_Type_Count": 82,
          "Patient_Mutation_Type_Rank": 31,
          "Patient_Mutation_Type_Rank_Max": 276,
          "Patient_Mutation_Type_Rank_Of_One": 0.8876811594202898,
          "Tumor_Sample_Barcode": "TCGA-BS-A0UV-01A-11D-A10B-09",
          "Variant_Classification": "Nonsense_Mutation"
         },
         {
          "Hugo_Symbol": "PTEN",
          "Mutation_Type": "C>T TCG",
          "Mutation_Type_Count": 2688,
          "Patient_Mutation_Type_Rank": 3,
          "Patient_Mutation_Type_Rank_Max": 514,
          "Patient_Mutation_Type_Rank_Of_One": 0.9941634241245136,
          "Tumor_Sample_Barcode": "TCGA-BS-A0UV-01A-11D-A10B-09",
          "Variant_Classification": "Silent"
         },
         {
          "Hugo_Symbol": "PTEN",
          "Mutation_Type": "T>C ATG",
          "Mutation_Type_Count": 256,
          "Patient_Mutation_Type_Rank": 2,
          "Patient_Mutation_Type_Rank_Max": 349,
          "Patient_Mutation_Type_Rank_Of_One": 0.994269340974212,
          "Tumor_Sample_Barcode": "TCGA-B5-A3FA-01A-11D-A19Y-09",
          "Variant_Classification": "Missense_Mutation"
         },
         {
          "Hugo_Symbol": "PTEN",
          "Mutation_Type": "C>T GCG",
          "Mutation_Type_Count": 663,
          "Patient_Mutation_Type_Rank": 26,
          "Patient_Mutation_Type_Rank_Max": 524,
          "Patient_Mutation_Type_Rank_Of_One": 0.950381679389313,
          "Tumor_Sample_Barcode": "TCGA-B5-A3FA-01A-11D-A19Y-09",
          "Variant_Classification": "Missense_Mutation"
         },
         {
          "Hugo_Symbol": "PTEN",
          "Mutation_Type": "T>G ATT",
          "Mutation_Type_Count": 1,
          "Patient_Mutation_Type_Rank": 98,
          "Patient_Mutation_Type_Rank_Max": 177,
          "Patient_Mutation_Type_Rank_Of_One": 0.4463276836158192,
          "Tumor_Sample_Barcode": "TCGA-EC-A1QX-01A-31D-A16D-09",
          "Variant_Classification": "Nonsense_Mutation"
         },
         {
          "Hugo_Symbol": "PTEN",
          "Mutation_Type": "C>A TCA",
          "Mutation_Type_Count": 1,
          "Patient_Mutation_Type_Rank": 197,
          "Patient_Mutation_Type_Rank_Max": 334,
          "Patient_Mutation_Type_Rank_Of_One": 0.41017964071856283,
          "Tumor_Sample_Barcode": "TCGA-AP-A0LD-01A-11W-A062-09",
          "Variant_Classification": "Nonsense_Mutation"
         },
         {
          "Hugo_Symbol": "PTEN",
          "Mutation_Type": "C>T GCA",
          "Mutation_Type_Count": 34,
          "Patient_Mutation_Type_Rank": 79,
          "Patient_Mutation_Type_Rank_Max": 390,
          "Patient_Mutation_Type_Rank_Of_One": 0.7974358974358975,
          "Tumor_Sample_Barcode": "TCGA-A5-A0VQ-01A-11D-A10B-09",
          "Variant_Classification": "Missense_Mutation"
         },
         {
          "Hugo_Symbol": "PTEN",
          "Mutation_Type": "C>G ACG",
          "Mutation_Type_Count": 1,
          "Patient_Mutation_Type_Rank": 84,
          "Patient_Mutation_Type_Rank_Max": 190,
          "Patient_Mutation_Type_Rank_Of_One": 0.5578947368421052,
          "Tumor_Sample_Barcode": "TCGA-BG-A0W2-01A-11D-A117-09",
          "Variant_Classification": "Missense_Mutation"
         },
         {
          "Hugo_Symbol": "PTEN",
          "Mutation_Type": "T>C CTA",
          "Mutation_Type_Count": 29,
          "Patient_Mutation_Type_Rank": 11,
          "Patient_Mutation_Type_Rank_Max": 260,
          "Patient_Mutation_Type_Rank_Of_One": 0.9576923076923077,
          "Tumor_Sample_Barcode": "TCGA-EO-A3KX-01A-11D-A228-09",
          "Variant_Classification": "Missense_Mutation"
         },
         {
          "Hugo_Symbol": "PTEN",
          "Mutation_Type": "C>T TCA",
          "Mutation_Type_Count": 18,
          "Patient_Mutation_Type_Rank": 54,
          "Patient_Mutation_Type_Rank_Max": 439,
          "Patient_Mutation_Type_Rank_Of_One": 0.876993166287016,
          "Tumor_Sample_Barcode": "TCGA-EO-A3KX-01A-11D-A228-09",
          "Variant_Classification": "Nonsense_Mutation"
         },
         {
          "Hugo_Symbol": "PTEN",
          "Mutation_Type": "C>T ACG",
          "Mutation_Type_Count": 25,
          "Patient_Mutation_Type_Rank": 190,
          "Patient_Mutation_Type_Rank_Max": 524,
          "Patient_Mutation_Type_Rank_Of_One": 0.6374045801526718,
          "Tumor_Sample_Barcode": "TCGA-D1-A17A-01A-11D-A12J-09",
          "Variant_Classification": "Nonsense_Mutation"
         },
         {
          "Hugo_Symbol": "PTEN",
          "Mutation_Type": "C>T ACG",
          "Mutation_Type_Count": 48,
          "Patient_Mutation_Type_Rank": 134,
          "Patient_Mutation_Type_Rank_Max": 524,
          "Patient_Mutation_Type_Rank_Of_One": 0.7442748091603053,
          "Tumor_Sample_Barcode": "TCGA-AP-A1E1-01A-11D-A135-09",
          "Variant_Classification": "Nonsense_Mutation"
         },
         {
          "Hugo_Symbol": "PTEN",
          "Mutation_Type": "C>T CCC",
          "Mutation_Type_Count": 2,
          "Patient_Mutation_Type_Rank": 231,
          "Patient_Mutation_Type_Rank_Max": 391,
          "Patient_Mutation_Type_Rank_Of_One": 0.40920716112531974,
          "Tumor_Sample_Barcode": "TCGA-AJ-A3I9-01A-11D-A228-09",
          "Variant_Classification": "Missense_Mutation"
         },
         {
          "Hugo_Symbol": "PTEN",
          "Mutation_Type": "C>A CCA",
          "Mutation_Type_Count": 24,
          "Patient_Mutation_Type_Rank": 35,
          "Patient_Mutation_Type_Rank_Max": 353,
          "Patient_Mutation_Type_Rank_Of_One": 0.9008498583569405,
          "Tumor_Sample_Barcode": "TCGA-D1-A17Q-01A-11D-A12J-09",
          "Variant_Classification": "Missense_Mutation"
         },
         {
          "Hugo_Symbol": "PTEN",
          "Mutation_Type": "C>A ACT",
          "Mutation_Type_Count": 70,
          "Patient_Mutation_Type_Rank": 33,
          "Patient_Mutation_Type_Rank_Max": 276,
          "Patient_Mutation_Type_Rank_Of_One": 0.8804347826086957,
          "Tumor_Sample_Barcode": "TCGA-D1-A17Q-01A-11D-A12J-09",
          "Variant_Classification": "Nonsense_Mutation"
         },
         {
          "Hugo_Symbol": "PTEN",
          "Mutation_Type": "C>G TCG",
          "Mutation_Type_Count": 1,
          "Patient_Mutation_Type_Rank": 73,
          "Patient_Mutation_Type_Rank_Max": 184,
          "Patient_Mutation_Type_Rank_Of_One": 0.6032608695652174,
          "Tumor_Sample_Barcode": "TCGA-AP-A0LO-01A-11W-A062-09",
          "Variant_Classification": "Missense_Mutation"
         },
         {
          "Hugo_Symbol": "PTEN",
          "Mutation_Type": "C>T ACT",
          "Mutation_Type_Count": 2,
          "Patient_Mutation_Type_Rank": 202,
          "Patient_Mutation_Type_Rank_Max": 341,
          "Patient_Mutation_Type_Rank_Of_One": 0.407624633431085,
          "Tumor_Sample_Barcode": "TCGA-AP-A0LO-01A-11W-A062-09",
          "Variant_Classification": "Missense_Mutation"
         },
         {
          "Hugo_Symbol": "PTEN",
          "Mutation_Type": "C>A CCT",
          "Mutation_Type_Count": 2,
          "Patient_Mutation_Type_Rank": 221,
          "Patient_Mutation_Type_Rank_Max": 342,
          "Patient_Mutation_Type_Rank_Of_One": 0.3538011695906432,
          "Tumor_Sample_Barcode": "TCGA-BG-A0MG-01A-21D-A10B-09",
          "Variant_Classification": "Missense_Mutation"
         },
         {
          "Hugo_Symbol": "PTEN",
          "Mutation_Type": "C>A TCT",
          "Mutation_Type_Count": 296,
          "Patient_Mutation_Type_Rank": 47,
          "Patient_Mutation_Type_Rank_Max": 389,
          "Patient_Mutation_Type_Rank_Of_One": 0.8791773778920309,
          "Tumor_Sample_Barcode": "TCGA-QS-A5YQ-01A-11D-A31U-09",
          "Variant_Classification": "Nonsense_Mutation"
         },
         {
          "Hugo_Symbol": "PTEN",
          "Mutation_Type": "C>A ACA",
          "Mutation_Type_Count": 1,
          "Patient_Mutation_Type_Rank": 173,
          "Patient_Mutation_Type_Rank_Max": 289,
          "Patient_Mutation_Type_Rank_Of_One": 0.40138408304498274,
          "Tumor_Sample_Barcode": "TCGA-QS-A5YQ-01A-11D-A31U-09",
          "Variant_Classification": "Missense_Mutation"
         },
         {
          "Hugo_Symbol": "PTEN",
          "Mutation_Type": "C>A TCT",
          "Mutation_Type_Count": 296,
          "Patient_Mutation_Type_Rank": 47,
          "Patient_Mutation_Type_Rank_Max": 389,
          "Patient_Mutation_Type_Rank_Of_One": 0.8791773778920309,
          "Tumor_Sample_Barcode": "TCGA-QS-A5YQ-01A-11D-A31U-09",
          "Variant_Classification": "Nonsense_Mutation"
         },
         {
          "Hugo_Symbol": "PTEN",
          "Mutation_Type": "C>A ACA",
          "Mutation_Type_Count": 1,
          "Patient_Mutation_Type_Rank": 174,
          "Patient_Mutation_Type_Rank_Max": 289,
          "Patient_Mutation_Type_Rank_Of_One": 0.39792387543252594,
          "Tumor_Sample_Barcode": "TCGA-EY-A1GW-01A-22D-A13L-09",
          "Variant_Classification": "Missense_Mutation"
         },
         {
          "Hugo_Symbol": "PTEN",
          "Mutation_Type": "T>G GTA",
          "Mutation_Type_Count": 1,
          "Patient_Mutation_Type_Rank": 46,
          "Patient_Mutation_Type_Rank_Max": 97,
          "Patient_Mutation_Type_Rank_Of_One": 0.5257731958762887,
          "Tumor_Sample_Barcode": "TCGA-EY-A1GW-01A-22D-A13L-09",
          "Variant_Classification": "Missense_Mutation"
         },
         {
          "Hugo_Symbol": "PTEN",
          "Mutation_Type": "C>G ACG",
          "Mutation_Type_Count": 1,
          "Patient_Mutation_Type_Rank": 88,
          "Patient_Mutation_Type_Rank_Max": 190,
          "Patient_Mutation_Type_Rank_Of_One": 0.5368421052631579,
          "Tumor_Sample_Barcode": "TCGA-BG-A0MQ-01A-11D-A10B-09",
          "Variant_Classification": "Missense_Mutation"
         },
         {
          "Hugo_Symbol": "PTEN",
          "Mutation_Type": "C>T ACT",
          "Mutation_Type_Count": 94,
          "Patient_Mutation_Type_Rank": 20,
          "Patient_Mutation_Type_Rank_Max": 341,
          "Patient_Mutation_Type_Rank_Of_One": 0.9413489736070382,
          "Tumor_Sample_Barcode": "TCGA-EY-A215-01A-11D-A14K-09",
          "Variant_Classification": "Missense_Mutation"
         },
         {
          "Hugo_Symbol": "PTEN",
          "Mutation_Type": "C>A TCT",
          "Mutation_Type_Count": 1,
          "Patient_Mutation_Type_Rank": 296,
          "Patient_Mutation_Type_Rank_Max": 389,
          "Patient_Mutation_Type_Rank_Of_One": 0.23907455012853474,
          "Tumor_Sample_Barcode": "TCGA-A5-A3LO-01A-11D-A228-09",
          "Variant_Classification": "Nonsense_Mutation"
         },
         {
          "Hugo_Symbol": "PTEN",
          "Mutation_Type": "C>T ACC",
          "Mutation_Type_Count": 1,
          "Patient_Mutation_Type_Rank": 274,
          "Patient_Mutation_Type_Rank_Max": 372,
          "Patient_Mutation_Type_Rank_Of_One": 0.26344086021505375,
          "Tumor_Sample_Barcode": "TCGA-D1-A1O8-01A-11D-A14G-09",
          "Variant_Classification": "Missense_Mutation"
         },
         {
          "Hugo_Symbol": "PTEN",
          "Mutation_Type": "T>G TTT",
          "Mutation_Type_Count": 89,
          "Patient_Mutation_Type_Rank": 41,
          "Patient_Mutation_Type_Rank_Max": 207,
          "Patient_Mutation_Type_Rank_Of_One": 0.8019323671497585,
          "Tumor_Sample_Barcode": "TCGA-QF-A5YS-01A-11D-A31U-09",
          "Variant_Classification": "Missense_Mutation"
         },
         {
          "Hugo_Symbol": "PTEN",
          "Mutation_Type": "C>T TCG",
          "Mutation_Type_Count": 648,
          "Patient_Mutation_Type_Rank": 34,
          "Patient_Mutation_Type_Rank_Max": 514,
          "Patient_Mutation_Type_Rank_Of_One": 0.933852140077821,
          "Tumor_Sample_Barcode": "TCGA-AX-A06F-01A-11W-A027-09",
          "Variant_Classification": "Missense_Mutation"
         },
         {
          "Hugo_Symbol": "PTEN",
          "Mutation_Type": "C>T TCG",
          "Mutation_Type_Count": 488,
          "Patient_Mutation_Type_Rank": 44,
          "Patient_Mutation_Type_Rank_Max": 514,
          "Patient_Mutation_Type_Rank_Of_One": 0.914396887159533,
          "Tumor_Sample_Barcode": "TCGA-AJ-A3EK-01A-11D-A19Y-09",
          "Variant_Classification": "Missense_Mutation"
         },
         {
          "Hugo_Symbol": "PTEN",
          "Mutation_Type": "C>A TCT",
          "Mutation_Type_Count": 598,
          "Patient_Mutation_Type_Rank": 36,
          "Patient_Mutation_Type_Rank_Max": 389,
          "Patient_Mutation_Type_Rank_Of_One": 0.9074550128534704,
          "Tumor_Sample_Barcode": "TCGA-AJ-A3EK-01A-11D-A19Y-09",
          "Variant_Classification": "Nonsense_Mutation"
         },
         {
          "Hugo_Symbol": "PTEN",
          "Mutation_Type": "C>A TCT",
          "Mutation_Type_Count": 1353,
          "Patient_Mutation_Type_Rank": 21,
          "Patient_Mutation_Type_Rank_Max": 389,
          "Patient_Mutation_Type_Rank_Of_One": 0.9460154241645244,
          "Tumor_Sample_Barcode": "TCGA-EO-A3AV-01A-12D-A19Y-09",
          "Variant_Classification": "Nonsense_Mutation"
         },
         {
          "Hugo_Symbol": "PTEN",
          "Mutation_Type": "T>G TTT",
          "Mutation_Type_Count": 371,
          "Patient_Mutation_Type_Rank": 11,
          "Patient_Mutation_Type_Rank_Max": 207,
          "Patient_Mutation_Type_Rank_Of_One": 0.9468599033816425,
          "Tumor_Sample_Barcode": "TCGA-EO-A3AV-01A-12D-A19Y-09",
          "Variant_Classification": "Missense_Mutation"
         },
         {
          "Hugo_Symbol": "PTEN",
          "Mutation_Type": "T>G CTA",
          "Mutation_Type_Count": 10,
          "Patient_Mutation_Type_Rank": 16,
          "Patient_Mutation_Type_Rank_Max": 101,
          "Patient_Mutation_Type_Rank_Of_One": 0.8415841584158416,
          "Tumor_Sample_Barcode": "TCGA-EO-A3AV-01A-12D-A19Y-09",
          "Variant_Classification": "Silent"
         },
         {
          "Hugo_Symbol": "PTEN",
          "Mutation_Type": "T>G TTT",
          "Mutation_Type_Count": 371,
          "Patient_Mutation_Type_Rank": 11,
          "Patient_Mutation_Type_Rank_Max": 207,
          "Patient_Mutation_Type_Rank_Of_One": 0.9468599033816425,
          "Tumor_Sample_Barcode": "TCGA-EO-A3AV-01A-12D-A19Y-09",
          "Variant_Classification": "Missense_Mutation"
         },
         {
          "Hugo_Symbol": "PTEN",
          "Mutation_Type": "C>T ACA",
          "Mutation_Type_Count": 1,
          "Patient_Mutation_Type_Rank": 285,
          "Patient_Mutation_Type_Rank_Max": 358,
          "Patient_Mutation_Type_Rank_Of_One": 0.2039106145251397,
          "Tumor_Sample_Barcode": "TCGA-D1-A16Y-01A-31D-A12J-09",
          "Variant_Classification": "Nonsense_Mutation"
         },
         {
          "Hugo_Symbol": "PTEN",
          "Mutation_Type": "C>A TCT",
          "Mutation_Type_Count": 389,
          "Patient_Mutation_Type_Rank": 44,
          "Patient_Mutation_Type_Rank_Max": 389,
          "Patient_Mutation_Type_Rank_Of_One": 0.8868894601542416,
          "Tumor_Sample_Barcode": "TCGA-DF-A2KV-01A-11D-A17W-09",
          "Variant_Classification": "Nonsense_Mutation"
         },
         {
          "Hugo_Symbol": "PTEN",
          "Mutation_Type": "C>A GCC",
          "Mutation_Type_Count": 3,
          "Patient_Mutation_Type_Rank": 103,
          "Patient_Mutation_Type_Rank_Max": 329,
          "Patient_Mutation_Type_Rank_Of_One": 0.6869300911854104,
          "Tumor_Sample_Barcode": "TCGA-DF-A2KV-01A-11D-A17W-09",
          "Variant_Classification": "Nonsense_Mutation"
         },
         {
          "Hugo_Symbol": "PTEN",
          "Mutation_Type": "C>T TCG",
          "Mutation_Type_Count": 889,
          "Patient_Mutation_Type_Rank": 28,
          "Patient_Mutation_Type_Rank_Max": 514,
          "Patient_Mutation_Type_Rank_Of_One": 0.9455252918287937,
          "Tumor_Sample_Barcode": "TCGA-D1-A16X-01A-11D-A12J-09",
          "Variant_Classification": "Missense_Mutation"
         },
         {
          "Hugo_Symbol": "PTEN",
          "Mutation_Type": "C>A TCA",
          "Mutation_Type_Count": 138,
          "Patient_Mutation_Type_Rank": 20,
          "Patient_Mutation_Type_Rank_Max": 334,
          "Patient_Mutation_Type_Rank_Of_One": 0.9401197604790419,
          "Tumor_Sample_Barcode": "TCGA-D1-A16X-01A-11D-A12J-09",
          "Variant_Classification": "Nonsense_Mutation"
         },
         {
          "Hugo_Symbol": "PTEN",
          "Mutation_Type": "C>T GCA",
          "Mutation_Type_Count": 622,
          "Patient_Mutation_Type_Rank": 2,
          "Patient_Mutation_Type_Rank_Max": 390,
          "Patient_Mutation_Type_Rank_Of_One": 0.9948717948717949,
          "Tumor_Sample_Barcode": "TCGA-AP-A059-01A-21D-A122-09",
          "Variant_Classification": "Missense_Mutation"
         },
         {
          "Hugo_Symbol": "PTEN",
          "Mutation_Type": "C>G ACG",
          "Mutation_Type_Count": 1,
          "Patient_Mutation_Type_Rank": 95,
          "Patient_Mutation_Type_Rank_Max": 190,
          "Patient_Mutation_Type_Rank_Of_One": 0.5,
          "Tumor_Sample_Barcode": "TCGA-AP-A0LP-01A-12D-A10B-09",
          "Variant_Classification": "Missense_Mutation"
         },
         {
          "Hugo_Symbol": "PTEN",
          "Mutation_Type": "C>T GCG",
          "Mutation_Type_Count": 235,
          "Patient_Mutation_Type_Rank": 50,
          "Patient_Mutation_Type_Rank_Max": 524,
          "Patient_Mutation_Type_Rank_Of_One": 0.9045801526717557,
          "Tumor_Sample_Barcode": "TCGA-AX-A1C9-01A-11D-A135-09",
          "Variant_Classification": "Missense_Mutation"
         },
         {
          "Hugo_Symbol": "PTEN",
          "Mutation_Type": "C>T ACG",
          "Mutation_Type_Count": 8,
          "Patient_Mutation_Type_Rank": 277,
          "Patient_Mutation_Type_Rank_Max": 524,
          "Patient_Mutation_Type_Rank_Of_One": 0.47137404580152675,
          "Tumor_Sample_Barcode": "TCGA-AX-A05W-01A-21W-A027-09",
          "Variant_Classification": "Nonsense_Mutation"
         },
         {
          "Hugo_Symbol": "PTEN",
          "Mutation_Type": "C>T ACG",
          "Mutation_Type_Count": 8,
          "Patient_Mutation_Type_Rank": 277,
          "Patient_Mutation_Type_Rank_Max": 524,
          "Patient_Mutation_Type_Rank_Of_One": 0.47137404580152675,
          "Tumor_Sample_Barcode": "TCGA-AX-A05W-01A-21W-A027-09",
          "Variant_Classification": "Nonsense_Mutation"
         },
         {
          "Hugo_Symbol": "PTEN",
          "Mutation_Type": "C>G ACG",
          "Mutation_Type_Count": 1,
          "Patient_Mutation_Type_Rank": 98,
          "Patient_Mutation_Type_Rank_Max": 190,
          "Patient_Mutation_Type_Rank_Of_One": 0.4842105263157894,
          "Tumor_Sample_Barcode": "TCGA-BG-A0M2-01A-11D-A10O-09",
          "Variant_Classification": "Missense_Mutation"
         },
         {
          "Hugo_Symbol": "PTEN",
          "Mutation_Type": "C>A TCG",
          "Mutation_Type_Count": 1,
          "Patient_Mutation_Type_Rank": 151,
          "Patient_Mutation_Type_Rank_Max": 257,
          "Patient_Mutation_Type_Rank_Of_One": 0.41245136186770426,
          "Tumor_Sample_Barcode": "TCGA-A5-A0G9-01A-11W-A062-09",
          "Variant_Classification": "Missense_Mutation"
         },
         {
          "Hugo_Symbol": "PTEN",
          "Mutation_Type": "C>G ACG",
          "Mutation_Type_Count": 1,
          "Patient_Mutation_Type_Rank": 99,
          "Patient_Mutation_Type_Rank_Max": 190,
          "Patient_Mutation_Type_Rank_Of_One": 0.4789473684210527,
          "Tumor_Sample_Barcode": "TCGA-EO-A3L0-01A-11D-A228-09",
          "Variant_Classification": "Missense_Mutation"
         },
         {
          "Hugo_Symbol": "PTEN",
          "Mutation_Type": "C>T ACG",
          "Mutation_Type_Count": 292,
          "Patient_Mutation_Type_Rank": 32,
          "Patient_Mutation_Type_Rank_Max": 524,
          "Patient_Mutation_Type_Rank_Of_One": 0.9389312977099237,
          "Tumor_Sample_Barcode": "TCGA-AJ-A3BG-01A-11D-A19Y-09",
          "Variant_Classification": "Nonsense_Mutation"
         },
         {
          "Hugo_Symbol": "PTEN",
          "Mutation_Type": "C>G ACG",
          "Mutation_Type_Count": 1,
          "Patient_Mutation_Type_Rank": 100,
          "Patient_Mutation_Type_Rank_Max": 190,
          "Patient_Mutation_Type_Rank_Of_One": 0.4736842105263158,
          "Tumor_Sample_Barcode": "TCGA-AX-A3G9-01A-11D-A228-09",
          "Variant_Classification": "Missense_Mutation"
         },
         {
          "Hugo_Symbol": "PTEN",
          "Mutation_Type": "C>T CCC",
          "Mutation_Type_Count": 1,
          "Patient_Mutation_Type_Rank": 320,
          "Patient_Mutation_Type_Rank_Max": 391,
          "Patient_Mutation_Type_Rank_Of_One": 0.18158567774936063,
          "Tumor_Sample_Barcode": "TCGA-B5-A11M-01A-11D-A122-09",
          "Variant_Classification": "Missense_Mutation"
         },
         {
          "Hugo_Symbol": "PTEN",
          "Mutation_Type": "C>T GCA",
          "Mutation_Type_Count": 342,
          "Patient_Mutation_Type_Rank": 10,
          "Patient_Mutation_Type_Rank_Max": 390,
          "Patient_Mutation_Type_Rank_Of_One": 0.9743589743589743,
          "Tumor_Sample_Barcode": "TCGA-A5-A0G1-01A-11D-A122-09",
          "Variant_Classification": "Missense_Mutation"
         },
         {
          "Hugo_Symbol": "PTEN",
          "Mutation_Type": "C>T TCG",
          "Mutation_Type_Count": 81,
          "Patient_Mutation_Type_Rank": 73,
          "Patient_Mutation_Type_Rank_Max": 514,
          "Patient_Mutation_Type_Rank_Of_One": 0.8579766536964981,
          "Tumor_Sample_Barcode": "TCGA-AJ-A3OK-01A-12D-A228-09",
          "Variant_Classification": "Missense_Mutation"
         },
         {
          "Hugo_Symbol": "PTEN",
          "Mutation_Type": "C>T GCG",
          "Mutation_Type_Count": 214,
          "Patient_Mutation_Type_Rank": 54,
          "Patient_Mutation_Type_Rank_Max": 524,
          "Patient_Mutation_Type_Rank_Of_One": 0.8969465648854962,
          "Tumor_Sample_Barcode": "TCGA-AJ-A3OK-01A-12D-A228-09",
          "Variant_Classification": "Missense_Mutation"
         },
         {
          "Hugo_Symbol": "PTEN",
          "Mutation_Type": "T>A ATT",
          "Mutation_Type_Count": 2,
          "Patient_Mutation_Type_Rank": 120,
          "Patient_Mutation_Type_Rank_Max": 255,
          "Patient_Mutation_Type_Rank_Of_One": 0.5294117647058824,
          "Tumor_Sample_Barcode": "TCGA-AX-A06J-01A-11W-A027-09",
          "Variant_Classification": "Missense_Mutation"
         },
         {
          "Hugo_Symbol": "PTEN",
          "Mutation_Type": "C>T TCA",
          "Mutation_Type_Count": 2,
          "Patient_Mutation_Type_Rank": 274,
          "Patient_Mutation_Type_Rank_Max": 439,
          "Patient_Mutation_Type_Rank_Of_One": 0.3758542141230068,
          "Tumor_Sample_Barcode": "TCGA-BG-A0MA-01A-11D-A17D-09",
          "Variant_Classification": "Nonsense_Mutation"
         },
         {
          "Hugo_Symbol": "PTEN",
          "Mutation_Type": "T>C ATC",
          "Mutation_Type_Count": 2,
          "Patient_Mutation_Type_Rank": 177,
          "Patient_Mutation_Type_Rank_Max": 313,
          "Patient_Mutation_Type_Rank_Of_One": 0.43450479233226835,
          "Tumor_Sample_Barcode": "TCGA-BG-A0MA-01A-11D-A17D-09",
          "Variant_Classification": "Missense_Mutation"
         },
         {
          "Hugo_Symbol": "PTEN",
          "Mutation_Type": "C>G ACG",
          "Mutation_Type_Count": 1,
          "Patient_Mutation_Type_Rank": 102,
          "Patient_Mutation_Type_Rank_Max": 190,
          "Patient_Mutation_Type_Rank_Of_One": 0.4631578947368421,
          "Tumor_Sample_Barcode": "TCGA-D1-A17C-01A-11D-A12J-09",
          "Variant_Classification": "Missense_Mutation"
         },
         {
          "Hugo_Symbol": "PTEN",
          "Mutation_Type": "C>A ACT",
          "Mutation_Type_Count": 3,
          "Patient_Mutation_Type_Rank": 84,
          "Patient_Mutation_Type_Rank_Max": 276,
          "Patient_Mutation_Type_Rank_Of_One": 0.6956521739130435,
          "Tumor_Sample_Barcode": "TCGA-AP-A1DH-01A-31D-A135-09",
          "Variant_Classification": "Missense_Mutation"
         },
         {
          "Hugo_Symbol": "PTEN",
          "Mutation_Type": "C>A TCT",
          "Mutation_Type_Count": 574,
          "Patient_Mutation_Type_Rank": 38,
          "Patient_Mutation_Type_Rank_Max": 389,
          "Patient_Mutation_Type_Rank_Of_One": 0.9023136246786633,
          "Tumor_Sample_Barcode": "TCGA-E6-A1M0-01A-11D-A142-09",
          "Variant_Classification": "Nonsense_Mutation"
         },
         {
          "Hugo_Symbol": "PTEN",
          "Mutation_Type": "C>A TCT",
          "Mutation_Type_Count": 574,
          "Patient_Mutation_Type_Rank": 38,
          "Patient_Mutation_Type_Rank_Max": 389,
          "Patient_Mutation_Type_Rank_Of_One": 0.9023136246786633,
          "Tumor_Sample_Barcode": "TCGA-E6-A1M0-01A-11D-A142-09",
          "Variant_Classification": "Nonsense_Mutation"
         },
         {
          "Hugo_Symbol": "PTEN",
          "Mutation_Type": "C>T TCT",
          "Mutation_Type_Count": 246,
          "Patient_Mutation_Type_Rank": 19,
          "Patient_Mutation_Type_Rank_Max": 406,
          "Patient_Mutation_Type_Rank_Of_One": 0.9532019704433498,
          "Tumor_Sample_Barcode": "TCGA-B5-A11E-01A-11D-A10M-09",
          "Variant_Classification": "Missense_Mutation"
         },
         {
          "Hugo_Symbol": "PTEN",
          "Mutation_Type": "T>C GTA",
          "Mutation_Type_Count": 168,
          "Patient_Mutation_Type_Rank": 7,
          "Patient_Mutation_Type_Rank_Max": 299,
          "Patient_Mutation_Type_Rank_Of_One": 0.9765886287625418,
          "Tumor_Sample_Barcode": "TCGA-B5-A11E-01A-11D-A10M-09",
          "Variant_Classification": "Missense_Mutation"
         },
         {
          "Hugo_Symbol": "PTEN",
          "Mutation_Type": "C>T ACG",
          "Mutation_Type_Count": 581,
          "Patient_Mutation_Type_Rank": 19,
          "Patient_Mutation_Type_Rank_Max": 524,
          "Patient_Mutation_Type_Rank_Of_One": 0.9637404580152672,
          "Tumor_Sample_Barcode": "TCGA-B5-A11E-01A-11D-A10M-09",
          "Variant_Classification": "Silent"
         },
         {
          "Hugo_Symbol": "PTEN",
          "Mutation_Type": "C>A TCT",
          "Mutation_Type_Count": 902,
          "Patient_Mutation_Type_Rank": 28,
          "Patient_Mutation_Type_Rank_Max": 389,
          "Patient_Mutation_Type_Rank_Of_One": 0.9280205655526992,
          "Tumor_Sample_Barcode": "TCGA-B5-A11E-01A-11D-A10M-09",
          "Variant_Classification": "Nonsense_Mutation"
         },
         {
          "Hugo_Symbol": "PTEN",
          "Mutation_Type": "C>A TCT",
          "Mutation_Type_Count": 217,
          "Patient_Mutation_Type_Rank": 51,
          "Patient_Mutation_Type_Rank_Max": 389,
          "Patient_Mutation_Type_Rank_Of_One": 0.8688946015424165,
          "Tumor_Sample_Barcode": "TCGA-EY-A1GD-01A-11D-A13L-09",
          "Variant_Classification": "Missense_Mutation"
         },
         {
          "Hugo_Symbol": "PTEN",
          "Mutation_Type": "C>T TCG",
          "Mutation_Type_Count": 261,
          "Patient_Mutation_Type_Rank": 50,
          "Patient_Mutation_Type_Rank_Max": 514,
          "Patient_Mutation_Type_Rank_Of_One": 0.9027237354085603,
          "Tumor_Sample_Barcode": "TCGA-EY-A1GD-01A-11D-A13L-09",
          "Variant_Classification": "Missense_Mutation"
         },
         {
          "Hugo_Symbol": "PTEN",
          "Mutation_Type": "C>T CCA",
          "Mutation_Type_Count": 7,
          "Patient_Mutation_Type_Rank": 84,
          "Patient_Mutation_Type_Rank_Max": 398,
          "Patient_Mutation_Type_Rank_Of_One": 0.7889447236180904,
          "Tumor_Sample_Barcode": "TCGA-D1-A16F-01A-11D-A12J-09",
          "Variant_Classification": "Nonsense_Mutation"
         },
         {
          "Hugo_Symbol": "PTEN",
          "Mutation_Type": "C>T ACG",
          "Mutation_Type_Count": 11,
          "Patient_Mutation_Type_Rank": 230,
          "Patient_Mutation_Type_Rank_Max": 524,
          "Patient_Mutation_Type_Rank_Of_One": 0.5610687022900763,
          "Tumor_Sample_Barcode": "TCGA-B5-A11R-01A-11D-A122-09",
          "Variant_Classification": "Nonsense_Mutation"
         },
         {
          "Hugo_Symbol": "PTEN",
          "Mutation_Type": "C>T ACG",
          "Mutation_Type_Count": 2,
          "Patient_Mutation_Type_Rank": 497,
          "Patient_Mutation_Type_Rank_Max": 524,
          "Patient_Mutation_Type_Rank_Of_One": 0.05152671755725191,
          "Tumor_Sample_Barcode": "TCGA-D1-A16B-01A-11D-A12J-09",
          "Variant_Classification": "Nonsense_Mutation"
         },
         {
          "Hugo_Symbol": "PTEN",
          "Mutation_Type": "T>A CTG",
          "Mutation_Type_Count": 2,
          "Patient_Mutation_Type_Rank": 74,
          "Patient_Mutation_Type_Rank_Max": 242,
          "Patient_Mutation_Type_Rank_Of_One": 0.6942148760330579,
          "Tumor_Sample_Barcode": "TCGA-D1-A2G5-01A-11D-A17D-09",
          "Variant_Classification": "Missense_Mutation"
         },
         {
          "Hugo_Symbol": "PTEN",
          "Mutation_Type": "C>T ACG",
          "Mutation_Type_Count": 67,
          "Patient_Mutation_Type_Rank": 99,
          "Patient_Mutation_Type_Rank_Max": 524,
          "Patient_Mutation_Type_Rank_Of_One": 0.8110687022900763,
          "Tumor_Sample_Barcode": "TCGA-D1-A17M-01A-21D-A12J-09",
          "Variant_Classification": "Nonsense_Mutation"
         },
         {
          "Hugo_Symbol": "PTEN",
          "Mutation_Type": "C>G ACG",
          "Mutation_Type_Count": 2,
          "Patient_Mutation_Type_Rank": 23,
          "Patient_Mutation_Type_Rank_Max": 190,
          "Patient_Mutation_Type_Rank_Of_One": 0.8789473684210526,
          "Tumor_Sample_Barcode": "TCGA-D1-A0ZR-01A-21D-A10M-09",
          "Variant_Classification": "Missense_Mutation"
         },
         {
          "Hugo_Symbol": "PTEN",
          "Mutation_Type": "T>G GTA",
          "Mutation_Type_Count": 2,
          "Patient_Mutation_Type_Rank": 32,
          "Patient_Mutation_Type_Rank_Max": 97,
          "Patient_Mutation_Type_Rank_Of_One": 0.6701030927835052,
          "Tumor_Sample_Barcode": "TCGA-D1-A0ZR-01A-21D-A10M-09",
          "Variant_Classification": "Missense_Mutation"
         },
         {
          "Hugo_Symbol": "PTEN",
          "Mutation_Type": "C>G ACG",
          "Mutation_Type_Count": 1,
          "Patient_Mutation_Type_Rank": 109,
          "Patient_Mutation_Type_Rank_Max": 190,
          "Patient_Mutation_Type_Rank_Of_One": 0.4263157894736842,
          "Tumor_Sample_Barcode": "TCGA-BG-A0MU-01A-11D-A10B-09",
          "Variant_Classification": "Missense_Mutation"
         },
         {
          "Hugo_Symbol": "PTEN",
          "Mutation_Type": "C>T TCA",
          "Mutation_Type_Count": 2,
          "Patient_Mutation_Type_Rank": 280,
          "Patient_Mutation_Type_Rank_Max": 439,
          "Patient_Mutation_Type_Rank_Of_One": 0.36218678815489747,
          "Tumor_Sample_Barcode": "TCGA-AX-A3FX-01A-11D-A228-09",
          "Variant_Classification": "Nonsense_Mutation"
         },
         {
          "Hugo_Symbol": "PTEN",
          "Mutation_Type": "C>G GCT",
          "Mutation_Type_Count": 1,
          "Patient_Mutation_Type_Rank": 172,
          "Patient_Mutation_Type_Rank_Max": 257,
          "Patient_Mutation_Type_Rank_Of_One": 0.330739299610895,
          "Tumor_Sample_Barcode": "TCGA-D1-A165-01A-11D-A12J-09",
          "Variant_Classification": "Missense_Mutation"
         },
         {
          "Hugo_Symbol": "PTEN",
          "Mutation_Type": "T>C TTC",
          "Mutation_Type_Count": 57,
          "Patient_Mutation_Type_Rank": 32,
          "Patient_Mutation_Type_Rank_Max": 275,
          "Patient_Mutation_Type_Rank_Of_One": 0.8836363636363637,
          "Tumor_Sample_Barcode": "TCGA-A5-A2K5-01A-11D-A17W-09",
          "Variant_Classification": "Missense_Mutation"
         },
         {
          "Hugo_Symbol": "PTEN",
          "Mutation_Type": "C>T TCG",
          "Mutation_Type_Count": 2007,
          "Patient_Mutation_Type_Rank": 12,
          "Patient_Mutation_Type_Rank_Max": 514,
          "Patient_Mutation_Type_Rank_Of_One": 0.9766536964980544,
          "Tumor_Sample_Barcode": "TCGA-A5-A2K5-01A-11D-A17W-09",
          "Variant_Classification": "Missense_Mutation"
         },
         {
          "Hugo_Symbol": "PTEN",
          "Mutation_Type": "C>A TCT",
          "Mutation_Type_Count": 2492,
          "Patient_Mutation_Type_Rank": 10,
          "Patient_Mutation_Type_Rank_Max": 389,
          "Patient_Mutation_Type_Rank_Of_One": 0.974293059125964,
          "Tumor_Sample_Barcode": "TCGA-A5-A2K5-01A-11D-A17W-09",
          "Variant_Classification": "Nonsense_Mutation"
         },
         {
          "Hugo_Symbol": "PTEN",
          "Mutation_Type": "C>A TCT",
          "Mutation_Type_Count": 3175,
          "Patient_Mutation_Type_Rank": 2,
          "Patient_Mutation_Type_Rank_Max": 389,
          "Patient_Mutation_Type_Rank_Of_One": 0.9948586118251928,
          "Tumor_Sample_Barcode": "TCGA-EO-A3B0-01A-12D-A19Y-09",
          "Variant_Classification": "Nonsense_Mutation"
         },
         {
          "Hugo_Symbol": "PTEN",
          "Mutation_Type": "C>T TCG",
          "Mutation_Type_Count": 1891,
          "Patient_Mutation_Type_Rank": 13,
          "Patient_Mutation_Type_Rank_Max": 514,
          "Patient_Mutation_Type_Rank_Of_One": 0.9747081712062257,
          "Tumor_Sample_Barcode": "TCGA-EO-A3B0-01A-12D-A19Y-09",
          "Variant_Classification": "Missense_Mutation"
         },
         {
          "Hugo_Symbol": "PTEN",
          "Mutation_Type": "C>T TCC",
          "Mutation_Type_Count": 8,
          "Patient_Mutation_Type_Rank": 97,
          "Patient_Mutation_Type_Rank_Max": 447,
          "Patient_Mutation_Type_Rank_Of_One": 0.7829977628635347,
          "Tumor_Sample_Barcode": "TCGA-D1-A1NZ-01A-21D-A14G-09",
          "Variant_Classification": "Missense_Mutation"
         },
         {
          "Hugo_Symbol": "PTEN",
          "Mutation_Type": "C>T ACG",
          "Mutation_Type_Count": 400,
          "Patient_Mutation_Type_Rank": 25,
          "Patient_Mutation_Type_Rank_Max": 524,
          "Patient_Mutation_Type_Rank_Of_One": 0.9522900763358778,
          "Tumor_Sample_Barcode": "TCGA-AP-A1DK-01A-11D-A135-09",
          "Variant_Classification": "Nonsense_Mutation"
         },
         {
          "Hugo_Symbol": "PTEN",
          "Mutation_Type": "C>G ACC",
          "Mutation_Type_Count": 2,
          "Patient_Mutation_Type_Rank": 49,
          "Patient_Mutation_Type_Rank_Max": 198,
          "Patient_Mutation_Type_Rank_Of_One": 0.7525252525252525,
          "Tumor_Sample_Barcode": "TCGA-B5-A5OC-01A-21D-A27P-09",
          "Variant_Classification": "Missense_Mutation"
         },
         {
          "Hugo_Symbol": "PTEN",
          "Mutation_Type": "T>A GTG",
          "Mutation_Type_Count": 1,
          "Patient_Mutation_Type_Rank": 90,
          "Patient_Mutation_Type_Rank_Max": 159,
          "Patient_Mutation_Type_Rank_Of_One": 0.4339622641509434,
          "Tumor_Sample_Barcode": "TCGA-BS-A0TE-01A-11D-A10B-09",
          "Variant_Classification": "Missense_Mutation"
         },
         {
          "Hugo_Symbol": "PTEN",
          "Mutation_Type": "C>T CCA",
          "Mutation_Type_Count": 2,
          "Patient_Mutation_Type_Rank": 246,
          "Patient_Mutation_Type_Rank_Max": 398,
          "Patient_Mutation_Type_Rank_Of_One": 0.38190954773869346,
          "Tumor_Sample_Barcode": "TCGA-EO-A22Y-01A-11D-A17W-09",
          "Variant_Classification": "Missense_Mutation"
         },
         {
          "Hugo_Symbol": "PTEN",
          "Mutation_Type": "C>T TCA",
          "Mutation_Type_Count": 41,
          "Patient_Mutation_Type_Rank": 36,
          "Patient_Mutation_Type_Rank_Max": 439,
          "Patient_Mutation_Type_Rank_Of_One": 0.9179954441913439,
          "Tumor_Sample_Barcode": "TCGA-4E-A92E-01A-11D-A37N-09",
          "Variant_Classification": "Nonsense_Mutation"
         },
         {
          "Hugo_Symbol": "PTEN",
          "Mutation_Type": "C>G ACA",
          "Mutation_Type_Count": 1,
          "Patient_Mutation_Type_Rank": 122,
          "Patient_Mutation_Type_Rank_Max": 209,
          "Patient_Mutation_Type_Rank_Of_One": 0.416267942583732,
          "Tumor_Sample_Barcode": "TCGA-EY-A5W2-01A-11D-A31U-09",
          "Variant_Classification": "Nonsense_Mutation"
         },
         {
          "Hugo_Symbol": "PTEN",
          "Mutation_Type": "C>A ACA",
          "Mutation_Type_Count": 1,
          "Patient_Mutation_Type_Rank": 205,
          "Patient_Mutation_Type_Rank_Max": 289,
          "Patient_Mutation_Type_Rank_Of_One": 0.2906574394463668,
          "Tumor_Sample_Barcode": "TCGA-EY-A5W2-01A-11D-A31U-09",
          "Variant_Classification": "Missense_Mutation"
         },
         {
          "Hugo_Symbol": "PTEN",
          "Mutation_Type": "C>G ACG",
          "Mutation_Type_Count": 2,
          "Patient_Mutation_Type_Rank": 28,
          "Patient_Mutation_Type_Rank_Max": 190,
          "Patient_Mutation_Type_Rank_Of_One": 0.8526315789473684,
          "Tumor_Sample_Barcode": "TCGA-A5-A0GV-01A-31W-A062-09",
          "Variant_Classification": "Missense_Mutation"
         },
         {
          "Hugo_Symbol": "PTEN",
          "Mutation_Type": "C>A TCG",
          "Mutation_Type_Count": 6,
          "Patient_Mutation_Type_Rank": 44,
          "Patient_Mutation_Type_Rank_Max": 257,
          "Patient_Mutation_Type_Rank_Of_One": 0.8287937743190661,
          "Tumor_Sample_Barcode": "TCGA-AJ-A2QO-01A-11D-A18P-09",
          "Variant_Classification": "Missense_Mutation"
         },
         {
          "Hugo_Symbol": "PTEN",
          "Mutation_Type": "C>A ACT",
          "Mutation_Type_Count": 1,
          "Patient_Mutation_Type_Rank": 203,
          "Patient_Mutation_Type_Rank_Max": 276,
          "Patient_Mutation_Type_Rank_Of_One": 0.26449275362318836,
          "Tumor_Sample_Barcode": "TCGA-AJ-A2QO-01A-11D-A18P-09",
          "Variant_Classification": "Missense_Mutation"
         },
         {
          "Hugo_Symbol": "PTEN",
          "Mutation_Type": "C>T TCG",
          "Mutation_Type_Count": 36,
          "Patient_Mutation_Type_Rank": 99,
          "Patient_Mutation_Type_Rank_Max": 514,
          "Patient_Mutation_Type_Rank_Of_One": 0.8073929961089494,
          "Tumor_Sample_Barcode": "TCGA-EY-A548-01A-11D-A27P-09",
          "Variant_Classification": "Missense_Mutation"
         },
         {
          "Hugo_Symbol": "PTEN",
          "Mutation_Type": "T>G TTT",
          "Mutation_Type_Count": 1,
          "Patient_Mutation_Type_Rank": 146,
          "Patient_Mutation_Type_Rank_Max": 207,
          "Patient_Mutation_Type_Rank_Of_One": 0.2946859903381642,
          "Tumor_Sample_Barcode": "TCGA-AX-A3G7-01A-12D-A20S-09",
          "Variant_Classification": "Missense_Mutation"
         },
         {
          "Hugo_Symbol": "PTEN",
          "Mutation_Type": "C>T TCG",
          "Mutation_Type_Count": 4,
          "Patient_Mutation_Type_Rank": 341,
          "Patient_Mutation_Type_Rank_Max": 514,
          "Patient_Mutation_Type_Rank_Of_One": 0.33657587548638135,
          "Tumor_Sample_Barcode": "TCGA-D1-A0ZV-01A-11D-A10M-09",
          "Variant_Classification": "Missense_Mutation"
         },
         {
          "Hugo_Symbol": "PTEN",
          "Mutation_Type": "T>G TTC",
          "Mutation_Type_Count": 2,
          "Patient_Mutation_Type_Rank": 69,
          "Patient_Mutation_Type_Rank_Max": 173,
          "Patient_Mutation_Type_Rank_Of_One": 0.6011560693641618,
          "Tumor_Sample_Barcode": "TCGA-DF-A2L0-01A-11D-A17W-09",
          "Variant_Classification": "Missense_Mutation"
         },
         {
          "Hugo_Symbol": "PTEN",
          "Mutation_Type": "C>G ACG",
          "Mutation_Type_Count": 1,
          "Patient_Mutation_Type_Rank": 118,
          "Patient_Mutation_Type_Rank_Max": 190,
          "Patient_Mutation_Type_Rank_Of_One": 0.3789473684210526,
          "Tumor_Sample_Barcode": "TCGA-EO-A3AU-01A-21D-A19Y-09",
          "Variant_Classification": "Missense_Mutation"
         },
         {
          "Hugo_Symbol": "PTEN",
          "Mutation_Type": "C>T TCG",
          "Mutation_Type_Count": 1082,
          "Patient_Mutation_Type_Rank": 26,
          "Patient_Mutation_Type_Rank_Max": 514,
          "Patient_Mutation_Type_Rank_Of_One": 0.9494163424124513,
          "Tumor_Sample_Barcode": "TCGA-BK-A6W3-01A-12D-A34Q-09",
          "Variant_Classification": "Missense_Mutation"
         },
         {
          "Hugo_Symbol": "PTEN",
          "Mutation_Type": "T>C GTC",
          "Mutation_Type_Count": 4,
          "Patient_Mutation_Type_Rank": 139,
          "Patient_Mutation_Type_Rank_Max": 296,
          "Patient_Mutation_Type_Rank_Of_One": 0.5304054054054055,
          "Tumor_Sample_Barcode": "TCGA-B5-A11J-01A-11D-A122-09",
          "Variant_Classification": "Missense_Mutation"
         },
         {
          "Hugo_Symbol": "PTEN",
          "Mutation_Type": "C>G ACA",
          "Mutation_Type_Count": 3,
          "Patient_Mutation_Type_Rank": 38,
          "Patient_Mutation_Type_Rank_Max": 209,
          "Patient_Mutation_Type_Rank_Of_One": 0.8181818181818181,
          "Tumor_Sample_Barcode": "TCGA-B5-A11J-01A-11D-A122-09",
          "Variant_Classification": "Nonsense_Mutation"
         },
         {
          "Hugo_Symbol": "PTEN",
          "Mutation_Type": "T>C CTG",
          "Mutation_Type_Count": 1,
          "Patient_Mutation_Type_Rank": 281,
          "Patient_Mutation_Type_Rank_Max": 325,
          "Patient_Mutation_Type_Rank_Of_One": 0.13538461538461544,
          "Tumor_Sample_Barcode": "TCGA-D1-A16R-01A-11D-A12J-09",
          "Variant_Classification": "Missense_Mutation"
         },
         {
          "Hugo_Symbol": "PTEN",
          "Mutation_Type": "C>G CCC",
          "Mutation_Type_Count": 1,
          "Patient_Mutation_Type_Rank": 80,
          "Patient_Mutation_Type_Rank_Max": 139,
          "Patient_Mutation_Type_Rank_Of_One": 0.4244604316546763,
          "Tumor_Sample_Barcode": "TCGA-AP-A1E0-01A-11D-A135-09",
          "Variant_Classification": "Missense_Mutation"
         },
         {
          "Hugo_Symbol": "PTEN",
          "Mutation_Type": "C>T ACA",
          "Mutation_Type_Count": 2,
          "Patient_Mutation_Type_Rank": 237,
          "Patient_Mutation_Type_Rank_Max": 358,
          "Patient_Mutation_Type_Rank_Of_One": 0.33798882681564246,
          "Tumor_Sample_Barcode": "TCGA-AP-A05P-01A-11W-A062-09",
          "Variant_Classification": "Missense_Mutation"
         },
         {
          "Hugo_Symbol": "PTEN",
          "Mutation_Type": "C>T ACG",
          "Mutation_Type_Count": 254,
          "Patient_Mutation_Type_Rank": 38,
          "Patient_Mutation_Type_Rank_Max": 524,
          "Patient_Mutation_Type_Rank_Of_One": 0.9274809160305344,
          "Tumor_Sample_Barcode": "TCGA-SJ-A6ZI-01A-12D-A34Q-09",
          "Variant_Classification": "Nonsense_Mutation"
         },
         {
          "Hugo_Symbol": "PTEN",
          "Mutation_Type": "C>T CCC",
          "Mutation_Type_Count": 160,
          "Patient_Mutation_Type_Rank": 11,
          "Patient_Mutation_Type_Rank_Max": 391,
          "Patient_Mutation_Type_Rank_Of_One": 0.9718670076726342,
          "Tumor_Sample_Barcode": "TCGA-AX-A1CE-01A-11D-A135-09",
          "Variant_Classification": "Missense_Mutation"
         },
         {
          "Hugo_Symbol": "PTEN",
          "Mutation_Type": "C>A GCT",
          "Mutation_Type_Count": 481,
          "Patient_Mutation_Type_Rank": 6,
          "Patient_Mutation_Type_Rank_Max": 331,
          "Patient_Mutation_Type_Rank_Of_One": 0.9818731117824774,
          "Tumor_Sample_Barcode": "TCGA-AX-A1CE-01A-11D-A135-09",
          "Variant_Classification": "Missense_Mutation"
         },
         {
          "Hugo_Symbol": "PTEN",
          "Mutation_Type": "C>T TCG",
          "Mutation_Type_Count": 534,
          "Patient_Mutation_Type_Rank": 40,
          "Patient_Mutation_Type_Rank_Max": 514,
          "Patient_Mutation_Type_Rank_Of_One": 0.9221789883268483,
          "Tumor_Sample_Barcode": "TCGA-AX-A1CE-01A-11D-A135-09",
          "Variant_Classification": "Silent"
         },
         {
          "Hugo_Symbol": "PTEN",
          "Mutation_Type": "T>A ATG",
          "Mutation_Type_Count": 2,
          "Patient_Mutation_Type_Rank": 47,
          "Patient_Mutation_Type_Rank_Max": 192,
          "Patient_Mutation_Type_Rank_Of_One": 0.7552083333333334,
          "Tumor_Sample_Barcode": "TCGA-D1-A16V-01A-11D-A12J-09",
          "Variant_Classification": "Missense_Mutation"
         },
         {
          "Hugo_Symbol": "PTEN",
          "Mutation_Type": "C>A GCG",
          "Mutation_Type_Count": 1,
          "Patient_Mutation_Type_Rank": 181,
          "Patient_Mutation_Type_Rank_Max": 261,
          "Patient_Mutation_Type_Rank_Of_One": 0.30651340996168586,
          "Tumor_Sample_Barcode": "TCGA-D1-A16V-01A-11D-A12J-09",
          "Variant_Classification": "Missense_Mutation"
         },
         {
          "Hugo_Symbol": "PTEN",
          "Mutation_Type": "C>A TCT",
          "Mutation_Type_Count": 4042,
          "Patient_Mutation_Type_Rank": 1,
          "Patient_Mutation_Type_Rank_Max": 389,
          "Patient_Mutation_Type_Rank_Of_One": 0.9974293059125964,
          "Tumor_Sample_Barcode": "TCGA-AX-A2HC-01A-11D-A17D-09",
          "Variant_Classification": "Missense_Mutation"
         },
         {
          "Hugo_Symbol": "PTEN",
          "Mutation_Type": "T>C CTG",
          "Mutation_Type_Count": 9,
          "Patient_Mutation_Type_Rank": 154,
          "Patient_Mutation_Type_Rank_Max": 325,
          "Patient_Mutation_Type_Rank_Of_One": 0.5261538461538462,
          "Tumor_Sample_Barcode": "TCGA-AX-A2HC-01A-11D-A17D-09",
          "Variant_Classification": "Missense_Mutation"
         },
         {
          "Hugo_Symbol": "PTEN",
          "Mutation_Type": "C>A ACT",
          "Mutation_Type_Count": 293,
          "Patient_Mutation_Type_Rank": 3,
          "Patient_Mutation_Type_Rank_Max": 276,
          "Patient_Mutation_Type_Rank_Of_One": 0.9891304347826086,
          "Tumor_Sample_Barcode": "TCGA-AX-A2HC-01A-11D-A17D-09",
          "Variant_Classification": "Nonsense_Mutation"
         },
         {
          "Hugo_Symbol": "PTEN",
          "Mutation_Type": "C>T TCG",
          "Mutation_Type_Count": 2459,
          "Patient_Mutation_Type_Rank": 6,
          "Patient_Mutation_Type_Rank_Max": 514,
          "Patient_Mutation_Type_Rank_Of_One": 0.9883268482490273,
          "Tumor_Sample_Barcode": "TCGA-AX-A2HC-01A-11D-A17D-09",
          "Variant_Classification": "Silent"
         },
         {
          "Hugo_Symbol": "PTEN",
          "Mutation_Type": "C>T ACG",
          "Mutation_Type_Count": 12,
          "Patient_Mutation_Type_Rank": 221,
          "Patient_Mutation_Type_Rank_Max": 524,
          "Patient_Mutation_Type_Rank_Of_One": 0.5782442748091603,
          "Tumor_Sample_Barcode": "TCGA-D1-A1O5-01A-11D-A14G-09",
          "Variant_Classification": "Nonsense_Mutation"
         },
         {
          "Hugo_Symbol": "PTEN",
          "Mutation_Type": "T>G TTT",
          "Mutation_Type_Count": 184,
          "Patient_Mutation_Type_Rank": 29,
          "Patient_Mutation_Type_Rank_Max": 207,
          "Patient_Mutation_Type_Rank_Of_One": 0.8599033816425121,
          "Tumor_Sample_Barcode": "TCGA-AJ-A5DW-01A-11D-A27P-09",
          "Variant_Classification": "Missense_Mutation"
         },
         {
          "Hugo_Symbol": "PTEN",
          "Mutation_Type": "C>T ACG",
          "Mutation_Type_Count": 7,
          "Patient_Mutation_Type_Rank": 307,
          "Patient_Mutation_Type_Rank_Max": 524,
          "Patient_Mutation_Type_Rank_Of_One": 0.41412213740458015,
          "Tumor_Sample_Barcode": "TCGA-EO-A1Y7-01A-11D-A159-09",
          "Variant_Classification": "Nonsense_Mutation"
         },
         {
          "Hugo_Symbol": "PTEN",
          "Mutation_Type": "C>A TCC",
          "Mutation_Type_Count": 3,
          "Patient_Mutation_Type_Rank": 138,
          "Patient_Mutation_Type_Rank_Max": 391,
          "Patient_Mutation_Type_Rank_Of_One": 0.6470588235294117,
          "Tumor_Sample_Barcode": "TCGA-PG-A6IB-01A-21D-A31U-09",
          "Variant_Classification": "Missense_Mutation"
         },
         {
          "Hugo_Symbol": "PTEN",
          "Mutation_Type": "C>T ACG",
          "Mutation_Type_Count": 46,
          "Patient_Mutation_Type_Rank": 141,
          "Patient_Mutation_Type_Rank_Max": 524,
          "Patient_Mutation_Type_Rank_Of_One": 0.7309160305343512,
          "Tumor_Sample_Barcode": "TCGA-PG-A6IB-01A-21D-A31U-09",
          "Variant_Classification": "Nonsense_Mutation"
         },
         {
          "Hugo_Symbol": "PTEN",
          "Mutation_Type": "C>T ACG",
          "Mutation_Type_Count": 79,
          "Patient_Mutation_Type_Rank": 81,
          "Patient_Mutation_Type_Rank_Max": 524,
          "Patient_Mutation_Type_Rank_Of_One": 0.8454198473282443,
          "Tumor_Sample_Barcode": "TCGA-BS-A0TJ-01A-11D-A10B-09",
          "Variant_Classification": "Nonsense_Mutation"
         },
         {
          "Hugo_Symbol": "PTEN",
          "Mutation_Type": "C>G ACG",
          "Mutation_Type_Count": 1,
          "Patient_Mutation_Type_Rank": 123,
          "Patient_Mutation_Type_Rank_Max": 190,
          "Patient_Mutation_Type_Rank_Of_One": 0.3526315789473684,
          "Tumor_Sample_Barcode": "TCGA-B5-A11Z-01A-11D-A10M-09",
          "Variant_Classification": "Missense_Mutation"
         },
         {
          "Hugo_Symbol": "PTEN",
          "Mutation_Type": "T>A GTG",
          "Mutation_Type_Count": 5,
          "Patient_Mutation_Type_Rank": 11,
          "Patient_Mutation_Type_Rank_Max": 159,
          "Patient_Mutation_Type_Rank_Of_One": 0.9308176100628931,
          "Tumor_Sample_Barcode": "TCGA-AP-A054-01A-11W-A062-09",
          "Variant_Classification": "Nonsense_Mutation"
         },
         {
          "Hugo_Symbol": "PTEN",
          "Mutation_Type": "C>T ACG",
          "Mutation_Type_Count": 48,
          "Patient_Mutation_Type_Rank": 136,
          "Patient_Mutation_Type_Rank_Max": 524,
          "Patient_Mutation_Type_Rank_Of_One": 0.7404580152671756,
          "Tumor_Sample_Barcode": "TCGA-AP-A054-01A-11W-A062-09",
          "Variant_Classification": "Nonsense_Mutation"
         },
         {
          "Hugo_Symbol": "PTEN",
          "Mutation_Type": "C>A GCA",
          "Mutation_Type_Count": 4,
          "Patient_Mutation_Type_Rank": 68,
          "Patient_Mutation_Type_Rank_Max": 338,
          "Patient_Mutation_Type_Rank_Of_One": 0.7988165680473372,
          "Tumor_Sample_Barcode": "TCGA-D1-A1O7-01A-11D-A14G-09",
          "Variant_Classification": "Missense_Mutation"
         },
         {
          "Hugo_Symbol": "PTEN",
          "Mutation_Type": "C>T GCT",
          "Mutation_Type_Count": 19,
          "Patient_Mutation_Type_Rank": 148,
          "Patient_Mutation_Type_Rank_Max": 394,
          "Patient_Mutation_Type_Rank_Of_One": 0.6243654822335025,
          "Tumor_Sample_Barcode": "TCGA-D1-A1O7-01A-11D-A14G-09",
          "Variant_Classification": "Missense_Mutation"
         },
         {
          "Hugo_Symbol": "PTEN",
          "Mutation_Type": "C>T TCG",
          "Mutation_Type_Count": 18,
          "Patient_Mutation_Type_Rank": 172,
          "Patient_Mutation_Type_Rank_Max": 514,
          "Patient_Mutation_Type_Rank_Of_One": 0.6653696498054475,
          "Tumor_Sample_Barcode": "TCGA-BG-A0VZ-01A-11D-A10G-09",
          "Variant_Classification": "Missense_Mutation"
         },
         {
          "Hugo_Symbol": "PTEN",
          "Mutation_Type": "C>A TCT",
          "Mutation_Type_Count": 902,
          "Patient_Mutation_Type_Rank": 29,
          "Patient_Mutation_Type_Rank_Max": 389,
          "Patient_Mutation_Type_Rank_Of_One": 0.9254498714652957,
          "Tumor_Sample_Barcode": "TCGA-D1-A103-01A-11D-A10M-09",
          "Variant_Classification": "Nonsense_Mutation"
         },
         {
          "Hugo_Symbol": "PTEN",
          "Mutation_Type": "C>G TCA",
          "Mutation_Type_Count": 6,
          "Patient_Mutation_Type_Rank": 27,
          "Patient_Mutation_Type_Rank_Max": 224,
          "Patient_Mutation_Type_Rank_Of_One": 0.8794642857142857,
          "Tumor_Sample_Barcode": "TCGA-EO-A3AS-01A-11D-A19Y-09",
          "Variant_Classification": "Missense_Mutation"
         },
         {
          "Hugo_Symbol": "PTEN",
          "Mutation_Type": "C>T GCG",
          "Mutation_Type_Count": 101,
          "Patient_Mutation_Type_Rank": 87,
          "Patient_Mutation_Type_Rank_Max": 524,
          "Patient_Mutation_Type_Rank_Of_One": 0.833969465648855,
          "Tumor_Sample_Barcode": "TCGA-BG-A220-01A-11D-A159-09",
          "Variant_Classification": "Missense_Mutation"
         },
         {
          "Hugo_Symbol": "PTEN",
          "Mutation_Type": "C>G ACG",
          "Mutation_Type_Count": 3,
          "Patient_Mutation_Type_Rank": 7,
          "Patient_Mutation_Type_Rank_Max": 190,
          "Patient_Mutation_Type_Rank_Of_One": 0.9631578947368421,
          "Tumor_Sample_Barcode": "TCGA-BG-A3EW-01A-11D-A228-09",
          "Variant_Classification": "Missense_Mutation"
         },
         {
          "Hugo_Symbol": "PTEN",
          "Mutation_Type": "C>T ACG",
          "Mutation_Type_Count": 9,
          "Patient_Mutation_Type_Rank": 260,
          "Patient_Mutation_Type_Rank_Max": 524,
          "Patient_Mutation_Type_Rank_Of_One": 0.5038167938931297,
          "Tumor_Sample_Barcode": "TCGA-BG-A0RY-01A-11D-A10B-09",
          "Variant_Classification": "Nonsense_Mutation"
         },
         {
          "Hugo_Symbol": "PTEN",
          "Mutation_Type": "C>T ACG",
          "Mutation_Type_Count": 43,
          "Patient_Mutation_Type_Rank": 152,
          "Patient_Mutation_Type_Rank_Max": 524,
          "Patient_Mutation_Type_Rank_Of_One": 0.7099236641221374,
          "Tumor_Sample_Barcode": "TCGA-BG-A18B-01A-11D-A12J-09",
          "Variant_Classification": "Nonsense_Mutation"
         },
         {
          "Hugo_Symbol": "PTEN",
          "Mutation_Type": "C>T ACG",
          "Mutation_Type_Count": 7,
          "Patient_Mutation_Type_Rank": 308,
          "Patient_Mutation_Type_Rank_Max": 524,
          "Patient_Mutation_Type_Rank_Of_One": 0.4122137404580153,
          "Tumor_Sample_Barcode": "TCGA-A5-A1OJ-01A-11D-A14G-09",
          "Variant_Classification": "Nonsense_Mutation"
         },
         {
          "Hugo_Symbol": "PTEN",
          "Mutation_Type": "T>C GTC",
          "Mutation_Type_Count": 92,
          "Patient_Mutation_Type_Rank": 23,
          "Patient_Mutation_Type_Rank_Max": 296,
          "Patient_Mutation_Type_Rank_Of_One": 0.9222972972972973,
          "Tumor_Sample_Barcode": "TCGA-EO-A22X-01A-11D-A17W-09",
          "Variant_Classification": "Missense_Mutation"
         },
         {
          "Hugo_Symbol": "PTEN",
          "Mutation_Type": "C>T TCG",
          "Mutation_Type_Count": 2358,
          "Patient_Mutation_Type_Rank": 8,
          "Patient_Mutation_Type_Rank_Max": 514,
          "Patient_Mutation_Type_Rank_Of_One": 0.9844357976653697,
          "Tumor_Sample_Barcode": "TCGA-EO-A22X-01A-11D-A17W-09",
          "Variant_Classification": "Missense_Mutation"
         },
         {
          "Hugo_Symbol": "PTEN",
          "Mutation_Type": "T>G TTT",
          "Mutation_Type_Count": 1,
          "Patient_Mutation_Type_Rank": 159,
          "Patient_Mutation_Type_Rank_Max": 207,
          "Patient_Mutation_Type_Rank_Of_One": 0.23188405797101452,
          "Tumor_Sample_Barcode": "TCGA-PG-A916-01A-11D-A37N-09",
          "Variant_Classification": "Missense_Mutation"
         },
         {
          "Hugo_Symbol": "PTEN",
          "Mutation_Type": "C>T ACC",
          "Mutation_Type_Count": 12,
          "Patient_Mutation_Type_Rank": 84,
          "Patient_Mutation_Type_Rank_Max": 372,
          "Patient_Mutation_Type_Rank_Of_One": 0.7741935483870968,
          "Tumor_Sample_Barcode": "TCGA-AX-A3G8-01A-11D-A228-09",
          "Variant_Classification": "Missense_Mutation"
         },
         {
          "Hugo_Symbol": "PTEN",
          "Mutation_Type": "T>C ATA",
          "Mutation_Type_Count": 2,
          "Patient_Mutation_Type_Rank": 187,
          "Patient_Mutation_Type_Rank_Max": 334,
          "Patient_Mutation_Type_Rank_Of_One": 0.4401197604790419,
          "Tumor_Sample_Barcode": "TCGA-D1-A15W-01A-11D-A122-09",
          "Variant_Classification": "Missense_Mutation"
         },
         {
          "Hugo_Symbol": "PTEN",
          "Mutation_Type": "C>G ACG",
          "Mutation_Type_Count": 1,
          "Patient_Mutation_Type_Rank": 131,
          "Patient_Mutation_Type_Rank_Max": 190,
          "Patient_Mutation_Type_Rank_Of_One": 0.31052631578947365,
          "Tumor_Sample_Barcode": "TCGA-D1-A15W-01A-11D-A122-09",
          "Variant_Classification": "Missense_Mutation"
         },
         {
          "Hugo_Symbol": "PTEN",
          "Mutation_Type": "C>T TCG",
          "Mutation_Type_Count": 8,
          "Patient_Mutation_Type_Rank": 233,
          "Patient_Mutation_Type_Rank_Max": 514,
          "Patient_Mutation_Type_Rank_Of_One": 0.5466926070038911,
          "Tumor_Sample_Barcode": "TCGA-D1-A15W-01A-11D-A122-09",
          "Variant_Classification": "Missense_Mutation"
         },
         {
          "Hugo_Symbol": "PTEN",
          "Mutation_Type": "T>C ATG",
          "Mutation_Type_Count": 1,
          "Patient_Mutation_Type_Rank": 304,
          "Patient_Mutation_Type_Rank_Max": 349,
          "Patient_Mutation_Type_Rank_Of_One": 0.1289398280802292,
          "Tumor_Sample_Barcode": "TCGA-AJ-A3BD-01A-11D-A19Y-09",
          "Variant_Classification": "Missense_Mutation"
         },
         {
          "Hugo_Symbol": "PTEN",
          "Mutation_Type": "C>G ACG",
          "Mutation_Type_Count": 2,
          "Patient_Mutation_Type_Rank": 38,
          "Patient_Mutation_Type_Rank_Max": 190,
          "Patient_Mutation_Type_Rank_Of_One": 0.8,
          "Tumor_Sample_Barcode": "TCGA-AX-A3FZ-01A-11D-A228-09",
          "Variant_Classification": "Missense_Mutation"
         },
         {
          "Hugo_Symbol": "PTEN",
          "Mutation_Type": "C>G ACG",
          "Mutation_Type_Count": 2,
          "Patient_Mutation_Type_Rank": 39,
          "Patient_Mutation_Type_Rank_Max": 190,
          "Patient_Mutation_Type_Rank_Of_One": 0.7947368421052632,
          "Tumor_Sample_Barcode": "TCGA-D1-A17T-01A-11D-A12J-09",
          "Variant_Classification": "Missense_Mutation"
         },
         {
          "Hugo_Symbol": "PTEN",
          "Mutation_Type": "C>T CCA",
          "Mutation_Type_Count": 2,
          "Patient_Mutation_Type_Rank": 259,
          "Patient_Mutation_Type_Rank_Max": 398,
          "Patient_Mutation_Type_Rank_Of_One": 0.3492462311557789,
          "Tumor_Sample_Barcode": "TCGA-BS-A0V8-01A-11D-A122-09",
          "Variant_Classification": "Missense_Mutation"
         },
         {
          "Hugo_Symbol": "PTEN",
          "Mutation_Type": "C>T ACC",
          "Mutation_Type_Count": 1,
          "Patient_Mutation_Type_Rank": 320,
          "Patient_Mutation_Type_Rank_Max": 372,
          "Patient_Mutation_Type_Rank_Of_One": 0.13978494623655913,
          "Tumor_Sample_Barcode": "TCGA-BS-A0V8-01A-11D-A122-09",
          "Variant_Classification": "Missense_Mutation"
         },
         {
          "Hugo_Symbol": "PTEN",
          "Mutation_Type": "C>T ACG",
          "Mutation_Type_Count": 5,
          "Patient_Mutation_Type_Rank": 383,
          "Patient_Mutation_Type_Rank_Max": 524,
          "Patient_Mutation_Type_Rank_Of_One": 0.26908396946564883,
          "Tumor_Sample_Barcode": "TCGA-D1-A16D-01A-11D-A12J-09",
          "Variant_Classification": "Nonsense_Mutation"
         },
         {
          "Hugo_Symbol": "PTEN",
          "Mutation_Type": "C>G ACG",
          "Mutation_Type_Count": 2,
          "Patient_Mutation_Type_Rank": 40,
          "Patient_Mutation_Type_Rank_Max": 190,
          "Patient_Mutation_Type_Rank_Of_One": 0.7894736842105263,
          "Tumor_Sample_Barcode": "TCGA-A5-A0RA-01A-21D-A10B-09",
          "Variant_Classification": "Missense_Mutation"
         },
         {
          "Hugo_Symbol": "PTEN",
          "Mutation_Type": "C>G ACG",
          "Mutation_Type_Count": 2,
          "Patient_Mutation_Type_Rank": 41,
          "Patient_Mutation_Type_Rank_Max": 190,
          "Patient_Mutation_Type_Rank_Of_One": 0.7842105263157895,
          "Tumor_Sample_Barcode": "TCGA-EY-A1GH-01A-11D-A13L-09",
          "Variant_Classification": "Missense_Mutation"
         },
         {
          "Hugo_Symbol": "PTEN",
          "Mutation_Type": "C>G ACG",
          "Mutation_Type_Count": 1,
          "Patient_Mutation_Type_Rank": 135,
          "Patient_Mutation_Type_Rank_Max": 190,
          "Patient_Mutation_Type_Rank_Of_One": 0.2894736842105263,
          "Tumor_Sample_Barcode": "TCGA-AX-A064-01A-11W-A027-09",
          "Variant_Classification": "Missense_Mutation"
         },
         {
          "Hugo_Symbol": "PTEN",
          "Mutation_Type": "T>C TTT",
          "Mutation_Type_Count": 2,
          "Patient_Mutation_Type_Rank": 127,
          "Patient_Mutation_Type_Rank_Max": 271,
          "Patient_Mutation_Type_Rank_Of_One": 0.5313653136531366,
          "Tumor_Sample_Barcode": "TCGA-B5-A11F-01A-11D-A10M-09",
          "Variant_Classification": "Missense_Mutation"
         },
         {
          "Hugo_Symbol": "PTEN",
          "Mutation_Type": "T>C ATG",
          "Mutation_Type_Count": 59,
          "Patient_Mutation_Type_Rank": 21,
          "Patient_Mutation_Type_Rank_Max": 349,
          "Patient_Mutation_Type_Rank_Of_One": 0.9398280802292264,
          "Tumor_Sample_Barcode": "TCGA-E6-A1LX-01A-11D-A14G-09",
          "Variant_Classification": "Missense_Mutation"
         },
         {
          "Hugo_Symbol": "PTEN",
          "Mutation_Type": "C>T TCT",
          "Mutation_Type_Count": 445,
          "Patient_Mutation_Type_Rank": 5,
          "Patient_Mutation_Type_Rank_Max": 406,
          "Patient_Mutation_Type_Rank_Of_One": 0.9876847290640394,
          "Tumor_Sample_Barcode": "TCGA-E6-A1LX-01A-11D-A14G-09",
          "Variant_Classification": "Missense_Mutation"
         },
         {
          "Hugo_Symbol": "PTEN",
          "Mutation_Type": "C>T TCG",
          "Mutation_Type_Count": 3132,
          "Patient_Mutation_Type_Rank": 1,
          "Patient_Mutation_Type_Rank_Max": 514,
          "Patient_Mutation_Type_Rank_Of_One": 0.9980544747081712,
          "Tumor_Sample_Barcode": "TCGA-E6-A1LX-01A-11D-A14G-09",
          "Variant_Classification": "Missense_Mutation"
         },
         {
          "Hugo_Symbol": "PTEN",
          "Mutation_Type": "C>T GCG",
          "Mutation_Type_Count": 970,
          "Patient_Mutation_Type_Rank": 20,
          "Patient_Mutation_Type_Rank_Max": 524,
          "Patient_Mutation_Type_Rank_Of_One": 0.9618320610687023,
          "Tumor_Sample_Barcode": "TCGA-E6-A1LX-01A-11D-A14G-09",
          "Variant_Classification": "Missense_Mutation"
         },
         {
          "Hugo_Symbol": "PTEN",
          "Mutation_Type": "C>A TCT",
          "Mutation_Type_Count": 9,
          "Patient_Mutation_Type_Rank": 72,
          "Patient_Mutation_Type_Rank_Max": 389,
          "Patient_Mutation_Type_Rank_Of_One": 0.8149100257069408,
          "Tumor_Sample_Barcode": "TCGA-AX-A2IN-01A-12D-A17W-09",
          "Variant_Classification": "Missense_Mutation"
         },
         {
          "Hugo_Symbol": "PTEN",
          "Mutation_Type": "C>A CCG",
          "Mutation_Type_Count": 1,
          "Patient_Mutation_Type_Rank": 275,
          "Patient_Mutation_Type_Rank_Max": 321,
          "Patient_Mutation_Type_Rank_Of_One": 0.14330218068535827,
          "Tumor_Sample_Barcode": "TCGA-B5-A1MZ-01A-11D-A142-09",
          "Variant_Classification": "Nonsense_Mutation"
         },
         {
          "Hugo_Symbol": "PTEN",
          "Mutation_Type": "T>C CTG",
          "Mutation_Type_Count": 21,
          "Patient_Mutation_Type_Rank": 75,
          "Patient_Mutation_Type_Rank_Max": 325,
          "Patient_Mutation_Type_Rank_Of_One": 0.7692307692307692,
          "Tumor_Sample_Barcode": "TCGA-D1-A1NY-01A-11D-A16D-09",
          "Variant_Classification": "Missense_Mutation"
         },
         {
          "Hugo_Symbol": "PTEN",
          "Mutation_Type": "T>G CTA",
          "Mutation_Type_Count": 1,
          "Patient_Mutation_Type_Rank": 81,
          "Patient_Mutation_Type_Rank_Max": 101,
          "Patient_Mutation_Type_Rank_Of_One": 0.19801980198019797,
          "Tumor_Sample_Barcode": "TCGA-A5-A0GX-01A-11W-A062-09",
          "Variant_Classification": "Missense_Mutation"
         },
         {
          "Hugo_Symbol": "PTEN",
          "Mutation_Type": "C>T CCA",
          "Mutation_Type_Count": 10,
          "Patient_Mutation_Type_Rank": 56,
          "Patient_Mutation_Type_Rank_Max": 398,
          "Patient_Mutation_Type_Rank_Of_One": 0.8592964824120604,
          "Tumor_Sample_Barcode": "TCGA-BK-A0C9-01A-11W-A027-09",
          "Variant_Classification": "Missense_Mutation"
         },
         {
          "Hugo_Symbol": "PTEN",
          "Mutation_Type": "C>G ACT",
          "Mutation_Type_Count": 1,
          "Patient_Mutation_Type_Rank": 206,
          "Patient_Mutation_Type_Rank_Max": 261,
          "Patient_Mutation_Type_Rank_Of_One": 0.210727969348659,
          "Tumor_Sample_Barcode": "TCGA-D1-A0ZU-01A-11D-A10M-09",
          "Variant_Classification": "Nonsense_Mutation"
         },
         {
          "Hugo_Symbol": "PTEN",
          "Mutation_Type": "C>T CCC",
          "Mutation_Type_Count": 2,
          "Patient_Mutation_Type_Rank": 256,
          "Patient_Mutation_Type_Rank_Max": 391,
          "Patient_Mutation_Type_Rank_Of_One": 0.34526854219948844,
          "Tumor_Sample_Barcode": "TCGA-EY-A1GX-01A-12D-A13L-09",
          "Variant_Classification": "Nonsense_Mutation"
         },
         {
          "Hugo_Symbol": "PTEN",
          "Mutation_Type": "C>A TCT",
          "Mutation_Type_Count": 1,
          "Patient_Mutation_Type_Rank": 336,
          "Patient_Mutation_Type_Rank_Max": 389,
          "Patient_Mutation_Type_Rank_Of_One": 0.13624678663239076,
          "Tumor_Sample_Barcode": "TCGA-A5-A0GU-01A-11W-A062-09",
          "Variant_Classification": "Missense_Mutation"
         },
         {
          "Hugo_Symbol": "PTEN",
          "Mutation_Type": "C>G ACG",
          "Mutation_Type_Count": 2,
          "Patient_Mutation_Type_Rank": 42,
          "Patient_Mutation_Type_Rank_Max": 190,
          "Patient_Mutation_Type_Rank_Of_One": 0.7789473684210526,
          "Tumor_Sample_Barcode": "TCGA-A5-A0GU-01A-11W-A062-09",
          "Variant_Classification": "Missense_Mutation"
         },
         {
          "Hugo_Symbol": "PTEN",
          "Mutation_Type": "C>T CCC",
          "Mutation_Type_Count": 7,
          "Patient_Mutation_Type_Rank": 103,
          "Patient_Mutation_Type_Rank_Max": 391,
          "Patient_Mutation_Type_Rank_Of_One": 0.7365728900255755,
          "Tumor_Sample_Barcode": "TCGA-D1-A0ZS-01A-11D-A122-09",
          "Variant_Classification": "Missense_Mutation"
         },
         {
          "Hugo_Symbol": "PTEN",
          "Mutation_Type": "C>A CCT",
          "Mutation_Type_Count": 209,
          "Patient_Mutation_Type_Rank": 30,
          "Patient_Mutation_Type_Rank_Max": 342,
          "Patient_Mutation_Type_Rank_Of_One": 0.9122807017543859,
          "Tumor_Sample_Barcode": "TCGA-AJ-A3EL-01A-11D-A20S-09",
          "Variant_Classification": "Missense_Mutation"
         },
         {
          "Hugo_Symbol": "PTEN",
          "Mutation_Type": "C>A TCT",
          "Mutation_Type_Count": 1546,
          "Patient_Mutation_Type_Rank": 17,
          "Patient_Mutation_Type_Rank_Max": 389,
          "Patient_Mutation_Type_Rank_Of_One": 0.9562982005141388,
          "Tumor_Sample_Barcode": "TCGA-AJ-A3EL-01A-11D-A20S-09",
          "Variant_Classification": "Missense_Mutation"
         },
         {
          "Hugo_Symbol": "PTEN",
          "Mutation_Type": "C>A TCT",
          "Mutation_Type_Count": 1546,
          "Patient_Mutation_Type_Rank": 17,
          "Patient_Mutation_Type_Rank_Max": 389,
          "Patient_Mutation_Type_Rank_Of_One": 0.9562982005141388,
          "Tumor_Sample_Barcode": "TCGA-AJ-A3EL-01A-11D-A20S-09",
          "Variant_Classification": "Nonsense_Mutation"
         },
         {
          "Hugo_Symbol": "PTEN",
          "Mutation_Type": "T>G TTT",
          "Mutation_Type_Count": 367,
          "Patient_Mutation_Type_Rank": 12,
          "Patient_Mutation_Type_Rank_Max": 207,
          "Patient_Mutation_Type_Rank_Of_One": 0.9420289855072463,
          "Tumor_Sample_Barcode": "TCGA-AJ-A3EL-01A-11D-A20S-09",
          "Variant_Classification": "Missense_Mutation"
         },
         {
          "Hugo_Symbol": "PTEN",
          "Mutation_Type": "T>A ATC",
          "Mutation_Type_Count": 2,
          "Patient_Mutation_Type_Rank": 98,
          "Patient_Mutation_Type_Rank_Max": 210,
          "Patient_Mutation_Type_Rank_Of_One": 0.5333333333333333,
          "Tumor_Sample_Barcode": "TCGA-AX-A1C4-01A-11D-A135-09",
          "Variant_Classification": "Missense_Mutation"
         },
         {
          "Hugo_Symbol": "PTEN",
          "Mutation_Type": "T>C ATC",
          "Mutation_Type_Count": 2,
          "Patient_Mutation_Type_Rank": 196,
          "Patient_Mutation_Type_Rank_Max": 313,
          "Patient_Mutation_Type_Rank_Of_One": 0.3738019169329073,
          "Tumor_Sample_Barcode": "TCGA-AX-A3G6-01A-11D-A20S-09",
          "Variant_Classification": "Missense_Mutation"
         },
         {
          "Hugo_Symbol": "PTEN",
          "Mutation_Type": "C>T ACA",
          "Mutation_Type_Count": 2,
          "Patient_Mutation_Type_Rank": 247,
          "Patient_Mutation_Type_Rank_Max": 358,
          "Patient_Mutation_Type_Rank_Of_One": 0.3100558659217877,
          "Tumor_Sample_Barcode": "TCGA-BG-A0MI-01A-11W-A062-09",
          "Variant_Classification": "Missense_Mutation"
         },
         {
          "Hugo_Symbol": "PTEN",
          "Mutation_Type": "C>G ACG",
          "Mutation_Type_Count": 2,
          "Patient_Mutation_Type_Rank": 45,
          "Patient_Mutation_Type_Rank_Max": 190,
          "Patient_Mutation_Type_Rank_Of_One": 0.7631578947368421,
          "Tumor_Sample_Barcode": "TCGA-BG-A0MI-01A-11W-A062-09",
          "Variant_Classification": "Missense_Mutation"
         },
         {
          "Hugo_Symbol": "PTEN",
          "Mutation_Type": "C>T CCC",
          "Mutation_Type_Count": 12,
          "Patient_Mutation_Type_Rank": 60,
          "Patient_Mutation_Type_Rank_Max": 391,
          "Patient_Mutation_Type_Rank_Of_One": 0.8465473145780051,
          "Tumor_Sample_Barcode": "TCGA-EC-A24G-01A-11D-A16D-09",
          "Variant_Classification": "Missense_Mutation"
         },
         {
          "Hugo_Symbol": "PTEN",
          "Mutation_Type": "C>T ACG",
          "Mutation_Type_Count": 260,
          "Patient_Mutation_Type_Rank": 34,
          "Patient_Mutation_Type_Rank_Max": 524,
          "Patient_Mutation_Type_Rank_Of_One": 0.9351145038167938,
          "Tumor_Sample_Barcode": "TCGA-EC-A24G-01A-11D-A16D-09",
          "Variant_Classification": "Nonsense_Mutation"
         },
         {
          "Hugo_Symbol": "PTEN",
          "Mutation_Type": "T>C ATG",
          "Mutation_Type_Count": 2,
          "Patient_Mutation_Type_Rank": 240,
          "Patient_Mutation_Type_Rank_Max": 349,
          "Patient_Mutation_Type_Rank_Of_One": 0.31232091690544417,
          "Tumor_Sample_Barcode": "TCGA-AP-A0LQ-01A-12D-A10B-09",
          "Variant_Classification": "Missense_Mutation"
         },
         {
          "Hugo_Symbol": "PTEN",
          "Mutation_Type": "C>G ACG",
          "Mutation_Type_Count": 3,
          "Patient_Mutation_Type_Rank": 8,
          "Patient_Mutation_Type_Rank_Max": 190,
          "Patient_Mutation_Type_Rank_Of_One": 0.9578947368421052,
          "Tumor_Sample_Barcode": "TCGA-D1-A17L-01A-11D-A12J-09",
          "Variant_Classification": "Missense_Mutation"
         },
         {
          "Hugo_Symbol": "PTEN",
          "Mutation_Type": "C>G ACG",
          "Mutation_Type_Count": 1,
          "Patient_Mutation_Type_Rank": 147,
          "Patient_Mutation_Type_Rank_Max": 190,
          "Patient_Mutation_Type_Rank_Of_One": 0.22631578947368425,
          "Tumor_Sample_Barcode": "TCGA-BS-A0VI-01A-11D-A14G-09",
          "Variant_Classification": "Missense_Mutation"
         },
         {
          "Hugo_Symbol": "PTEN",
          "Mutation_Type": "C>G ACG",
          "Mutation_Type_Count": 1,
          "Patient_Mutation_Type_Rank": 150,
          "Patient_Mutation_Type_Rank_Max": 190,
          "Patient_Mutation_Type_Rank_Of_One": 0.21052631578947367,
          "Tumor_Sample_Barcode": "TCGA-AX-A05U-01A-11W-A027-09",
          "Variant_Classification": "Missense_Mutation"
         },
         {
          "Hugo_Symbol": "PTEN",
          "Mutation_Type": "C>T ACG",
          "Mutation_Type_Count": 21,
          "Patient_Mutation_Type_Rank": 196,
          "Patient_Mutation_Type_Rank_Max": 524,
          "Patient_Mutation_Type_Rank_Of_One": 0.6259541984732824,
          "Tumor_Sample_Barcode": "TCGA-BS-A0U7-01A-21D-A10B-09",
          "Variant_Classification": "Nonsense_Mutation"
         },
         {
          "Hugo_Symbol": "PTEN",
          "Mutation_Type": "T>G ATT",
          "Mutation_Type_Count": 128,
          "Patient_Mutation_Type_Rank": 9,
          "Patient_Mutation_Type_Rank_Max": 177,
          "Patient_Mutation_Type_Rank_Of_One": 0.9491525423728814,
          "Tumor_Sample_Barcode": "TCGA-AP-A1DV-01A-21D-A135-09",
          "Variant_Classification": "Missense_Mutation"
         },
         {
          "Hugo_Symbol": "PTEN",
          "Mutation_Type": "T>C TTG",
          "Mutation_Type_Count": 2,
          "Patient_Mutation_Type_Rank": 194,
          "Patient_Mutation_Type_Rank_Max": 267,
          "Patient_Mutation_Type_Rank_Of_One": 0.27340823970037453,
          "Tumor_Sample_Barcode": "TCGA-AJ-A2QK-01A-11D-A18P-09",
          "Variant_Classification": "Missense_Mutation"
         },
         {
          "Hugo_Symbol": "PTEN",
          "Mutation_Type": "T>C ATT",
          "Mutation_Type_Count": 1,
          "Patient_Mutation_Type_Rank": 323,
          "Patient_Mutation_Type_Rank_Max": 365,
          "Patient_Mutation_Type_Rank_Of_One": 0.1150684931506849,
          "Tumor_Sample_Barcode": "TCGA-AJ-A2QK-01A-11D-A18P-09",
          "Variant_Classification": "Missense_Mutation"
         },
         {
          "Hugo_Symbol": "PTEN",
          "Mutation_Type": "T>C TTA",
          "Mutation_Type_Count": 1,
          "Patient_Mutation_Type_Rank": 229,
          "Patient_Mutation_Type_Rank_Max": 256,
          "Patient_Mutation_Type_Rank_Of_One": 0.10546875,
          "Tumor_Sample_Barcode": "TCGA-EY-A1GF-01A-11D-A13L-09",
          "Variant_Classification": "Missense_Mutation"
         },
         {
          "Hugo_Symbol": "PTEN",
          "Mutation_Type": "C>T ACC",
          "Mutation_Type_Count": 9,
          "Patient_Mutation_Type_Rank": 108,
          "Patient_Mutation_Type_Rank_Max": 372,
          "Patient_Mutation_Type_Rank_Of_One": 0.7096774193548387,
          "Tumor_Sample_Barcode": "TCGA-A5-A7WJ-01A-12D-A34Q-09",
          "Variant_Classification": "Missense_Mutation"
         },
         {
          "Hugo_Symbol": "PTEN",
          "Mutation_Type": "C>A CCA",
          "Mutation_Type_Count": 1,
          "Patient_Mutation_Type_Rank": 323,
          "Patient_Mutation_Type_Rank_Max": 353,
          "Patient_Mutation_Type_Rank_Of_One": 0.08498583569405094,
          "Tumor_Sample_Barcode": "TCGA-AJ-A3BI-01A-11D-A20S-09",
          "Variant_Classification": "Nonsense_Mutation"
         },
         {
          "Hugo_Symbol": "PTEN",
          "Mutation_Type": "C>A TCC",
          "Mutation_Type_Count": 1,
          "Patient_Mutation_Type_Rank": 338,
          "Patient_Mutation_Type_Rank_Max": 391,
          "Patient_Mutation_Type_Rank_Of_One": 0.13554987212276215,
          "Tumor_Sample_Barcode": "TCGA-AJ-A3BI-01A-11D-A20S-09",
          "Variant_Classification": "Missense_Mutation"
         },
         {
          "Hugo_Symbol": "PTEN",
          "Mutation_Type": "C>G ACC",
          "Mutation_Type_Count": 4,
          "Patient_Mutation_Type_Rank": 23,
          "Patient_Mutation_Type_Rank_Max": 198,
          "Patient_Mutation_Type_Rank_Of_One": 0.8838383838383839,
          "Tumor_Sample_Barcode": "TCGA-BG-A0VW-01A-11D-A122-09",
          "Variant_Classification": "Missense_Mutation"
         },
         {
          "Hugo_Symbol": "PTEN",
          "Mutation_Type": "C>G GCA",
          "Mutation_Type_Count": 1,
          "Patient_Mutation_Type_Rank": 148,
          "Patient_Mutation_Type_Rank_Max": 177,
          "Patient_Mutation_Type_Rank_Of_One": 0.16384180790960456,
          "Tumor_Sample_Barcode": "TCGA-AP-A1DM-01A-21D-A135-09",
          "Variant_Classification": "Missense_Mutation"
         },
         {
          "Hugo_Symbol": "PTEN",
          "Mutation_Type": "C>A TCC",
          "Mutation_Type_Count": 1,
          "Patient_Mutation_Type_Rank": 341,
          "Patient_Mutation_Type_Rank_Max": 391,
          "Patient_Mutation_Type_Rank_Of_One": 0.12787723785166238,
          "Tumor_Sample_Barcode": "TCGA-AP-A1DM-01A-21D-A135-09",
          "Variant_Classification": "Nonsense_Mutation"
         },
         {
          "Hugo_Symbol": "PTEN",
          "Mutation_Type": "C>G ACG",
          "Mutation_Type_Count": 1,
          "Patient_Mutation_Type_Rank": 154,
          "Patient_Mutation_Type_Rank_Max": 190,
          "Patient_Mutation_Type_Rank_Of_One": 0.18947368421052635,
          "Tumor_Sample_Barcode": "TCGA-BG-A0M7-01A-11W-A062-09",
          "Variant_Classification": "Missense_Mutation"
         },
         {
          "Hugo_Symbol": "PTEN",
          "Mutation_Type": "C>T TCG",
          "Mutation_Type_Count": 33,
          "Patient_Mutation_Type_Rank": 110,
          "Patient_Mutation_Type_Rank_Max": 514,
          "Patient_Mutation_Type_Rank_Of_One": 0.7859922178988327,
          "Tumor_Sample_Barcode": "TCGA-D1-A177-01A-21D-A12J-09",
          "Variant_Classification": "Missense_Mutation"
         },
         {
          "Hugo_Symbol": "PTEN",
          "Mutation_Type": "C>A TCC",
          "Mutation_Type_Count": 3,
          "Patient_Mutation_Type_Rank": 154,
          "Patient_Mutation_Type_Rank_Max": 391,
          "Patient_Mutation_Type_Rank_Of_One": 0.6061381074168798,
          "Tumor_Sample_Barcode": "TCGA-D1-A177-01A-21D-A12J-09",
          "Variant_Classification": "Nonsense_Mutation"
         },
         {
          "Hugo_Symbol": "PTEN",
          "Mutation_Type": "C>A TCA",
          "Mutation_Type_Count": 3,
          "Patient_Mutation_Type_Rank": 99,
          "Patient_Mutation_Type_Rank_Max": 334,
          "Patient_Mutation_Type_Rank_Of_One": 0.7035928143712575,
          "Tumor_Sample_Barcode": "TCGA-BK-A0CB-01A-32D-A10B-09",
          "Variant_Classification": "Nonsense_Mutation"
         },
         {
          "Hugo_Symbol": "PTEN",
          "Mutation_Type": "C>A TCA",
          "Mutation_Type_Count": 401,
          "Patient_Mutation_Type_Rank": 3,
          "Patient_Mutation_Type_Rank_Max": 334,
          "Patient_Mutation_Type_Rank_Of_One": 0.9910179640718563,
          "Tumor_Sample_Barcode": "TCGA-AX-A05Z-01A-11W-A027-09",
          "Variant_Classification": "Nonsense_Mutation"
         },
         {
          "Hugo_Symbol": "PTEN",
          "Mutation_Type": "C>T TCG",
          "Mutation_Type_Count": 1793,
          "Patient_Mutation_Type_Rank": 14,
          "Patient_Mutation_Type_Rank_Max": 514,
          "Patient_Mutation_Type_Rank_Of_One": 0.9727626459143969,
          "Tumor_Sample_Barcode": "TCGA-AX-A05Z-01A-11W-A027-09",
          "Variant_Classification": "Silent"
         },
         {
          "Hugo_Symbol": "PTEN",
          "Mutation_Type": "C>T TCG",
          "Mutation_Type_Count": 16,
          "Patient_Mutation_Type_Rank": 184,
          "Patient_Mutation_Type_Rank_Max": 514,
          "Patient_Mutation_Type_Rank_Of_One": 0.6420233463035019,
          "Tumor_Sample_Barcode": "TCGA-A5-A0GW-01A-11W-A062-09",
          "Variant_Classification": "Missense_Mutation"
         },
         {
          "Hugo_Symbol": "PTEN",
          "Mutation_Type": "C>A TCA",
          "Mutation_Type_Count": 2,
          "Patient_Mutation_Type_Rank": 159,
          "Patient_Mutation_Type_Rank_Max": 334,
          "Patient_Mutation_Type_Rank_Of_One": 0.5239520958083832,
          "Tumor_Sample_Barcode": "TCGA-A5-A0GW-01A-11W-A062-09",
          "Variant_Classification": "Missense_Mutation"
         },
         {
          "Hugo_Symbol": "PTEN",
          "Mutation_Type": "C>A CCT",
          "Mutation_Type_Count": 121,
          "Patient_Mutation_Type_Rank": 42,
          "Patient_Mutation_Type_Rank_Max": 342,
          "Patient_Mutation_Type_Rank_Of_One": 0.8771929824561404,
          "Tumor_Sample_Barcode": "TCGA-B5-A1MR-01A-31D-A14G-09",
          "Variant_Classification": "Missense_Mutation"
         },
         {
          "Hugo_Symbol": "PTEN",
          "Mutation_Type": "C>A TCT",
          "Mutation_Type_Count": 1481,
          "Patient_Mutation_Type_Rank": 19,
          "Patient_Mutation_Type_Rank_Max": 389,
          "Patient_Mutation_Type_Rank_Of_One": 0.9511568123393316,
          "Tumor_Sample_Barcode": "TCGA-B5-A1MR-01A-31D-A14G-09",
          "Variant_Classification": "Missense_Mutation"
         },
         {
          "Hugo_Symbol": "PTEN",
          "Mutation_Type": "C>T ACG",
          "Mutation_Type_Count": 135,
          "Patient_Mutation_Type_Rank": 62,
          "Patient_Mutation_Type_Rank_Max": 524,
          "Patient_Mutation_Type_Rank_Of_One": 0.8816793893129771,
          "Tumor_Sample_Barcode": "TCGA-B5-A1MR-01A-31D-A14G-09",
          "Variant_Classification": "Nonsense_Mutation"
         },
         {
          "Hugo_Symbol": "PTEN",
          "Mutation_Type": "C>A GCT",
          "Mutation_Type_Count": 2,
          "Patient_Mutation_Type_Rank": 210,
          "Patient_Mutation_Type_Rank_Max": 331,
          "Patient_Mutation_Type_Rank_Of_One": 0.3655589123867069,
          "Tumor_Sample_Barcode": "TCGA-B5-A0K1-01A-11W-A062-09",
          "Variant_Classification": "Missense_Mutation"
         },
         {
          "Hugo_Symbol": "PTEN",
          "Mutation_Type": "T>G TTA",
          "Mutation_Type_Count": 1,
          "Patient_Mutation_Type_Rank": 96,
          "Patient_Mutation_Type_Rank_Max": 106,
          "Patient_Mutation_Type_Rank_Of_One": 0.09433962264150941,
          "Tumor_Sample_Barcode": "TCGA-D1-A16N-01A-11D-A12J-09",
          "Variant_Classification": "Nonsense_Mutation"
         },
         {
          "Hugo_Symbol": "PTEN",
          "Mutation_Type": "C>T ACG",
          "Mutation_Type_Count": 33,
          "Patient_Mutation_Type_Rank": 176,
          "Patient_Mutation_Type_Rank_Max": 524,
          "Patient_Mutation_Type_Rank_Of_One": 0.6641221374045801,
          "Tumor_Sample_Barcode": "TCGA-FI-A2D4-01A-12D-A17D-09",
          "Variant_Classification": "Nonsense_Mutation"
         },
         {
          "Hugo_Symbol": "PTEN",
          "Mutation_Type": "C>T TCG",
          "Mutation_Type_Count": 544,
          "Patient_Mutation_Type_Rank": 39,
          "Patient_Mutation_Type_Rank_Max": 514,
          "Patient_Mutation_Type_Rank_Of_One": 0.9241245136186771,
          "Tumor_Sample_Barcode": "TCGA-A5-A1OF-01A-11D-A14G-09",
          "Variant_Classification": "Missense_Mutation"
         },
         {
          "Hugo_Symbol": "PTEN",
          "Mutation_Type": "T>G ATT",
          "Mutation_Type_Count": 1,
          "Patient_Mutation_Type_Rank": 156,
          "Patient_Mutation_Type_Rank_Max": 177,
          "Patient_Mutation_Type_Rank_Of_One": 0.11864406779661019,
          "Tumor_Sample_Barcode": "TCGA-AJ-A2QL-01A-11D-A18P-09",
          "Variant_Classification": "Nonsense_Mutation"
         },
         {
          "Hugo_Symbol": "PTEN",
          "Mutation_Type": "T>C ATG",
          "Mutation_Type_Count": 1,
          "Patient_Mutation_Type_Rank": 325,
          "Patient_Mutation_Type_Rank_Max": 349,
          "Patient_Mutation_Type_Rank_Of_One": 0.06876790830945556,
          "Tumor_Sample_Barcode": "TCGA-A5-A0R8-01A-11D-A10B-09",
          "Variant_Classification": "Missense_Mutation"
         },
         {
          "Hugo_Symbol": "PTEN",
          "Mutation_Type": "T>C ATG",
          "Mutation_Type_Count": 13,
          "Patient_Mutation_Type_Rank": 112,
          "Patient_Mutation_Type_Rank_Max": 349,
          "Patient_Mutation_Type_Rank_Of_One": 0.6790830945558739,
          "Tumor_Sample_Barcode": "TCGA-AX-A1C5-01A-11D-A135-09",
          "Variant_Classification": "Missense_Mutation"
         },
         {
          "Hugo_Symbol": "PTEN",
          "Mutation_Type": "C>T ACG",
          "Mutation_Type_Count": 160,
          "Patient_Mutation_Type_Rank": 56,
          "Patient_Mutation_Type_Rank_Max": 524,
          "Patient_Mutation_Type_Rank_Of_One": 0.8931297709923665,
          "Tumor_Sample_Barcode": "TCGA-AX-A1C5-01A-11D-A135-09",
          "Variant_Classification": "Nonsense_Mutation"
         },
         {
          "Hugo_Symbol": "PTEN",
          "Mutation_Type": "C>T ACC",
          "Mutation_Type_Count": 14,
          "Patient_Mutation_Type_Rank": 71,
          "Patient_Mutation_Type_Rank_Max": 372,
          "Patient_Mutation_Type_Rank_Of_One": 0.8091397849462365,
          "Tumor_Sample_Barcode": "TCGA-AX-A1C5-01A-11D-A135-09",
          "Variant_Classification": "Missense_Mutation"
         },
         {
          "Hugo_Symbol": "PTEN",
          "Mutation_Type": "T>C ATG",
          "Mutation_Type_Count": 17,
          "Patient_Mutation_Type_Rank": 75,
          "Patient_Mutation_Type_Rank_Max": 349,
          "Patient_Mutation_Type_Rank_Of_One": 0.7851002865329513,
          "Tumor_Sample_Barcode": "TCGA-EY-A1GQ-01A-21D-A13L-09",
          "Variant_Classification": "Missense_Mutation"
         },
         {
          "Hugo_Symbol": "PTEN",
          "Mutation_Type": "C>G ACA",
          "Mutation_Type_Count": 2,
          "Patient_Mutation_Type_Rank": 72,
          "Patient_Mutation_Type_Rank_Max": 209,
          "Patient_Mutation_Type_Rank_Of_One": 0.6555023923444976,
          "Tumor_Sample_Barcode": "TCGA-BS-A0UM-01A-11W-A10C-09",
          "Variant_Classification": "Missense_Mutation"
         },
         {
          "Hugo_Symbol": "PTEN",
          "Mutation_Type": "C>G ACG",
          "Mutation_Type_Count": 3,
          "Patient_Mutation_Type_Rank": 9,
          "Patient_Mutation_Type_Rank_Max": 190,
          "Patient_Mutation_Type_Rank_Of_One": 0.9526315789473684,
          "Tumor_Sample_Barcode": "TCGA-EY-A1GK-01A-11D-A13L-09",
          "Variant_Classification": "Missense_Mutation"
         },
         {
          "Hugo_Symbol": "PTEN",
          "Mutation_Type": "C>T TCG",
          "Mutation_Type_Count": 8,
          "Patient_Mutation_Type_Rank": 239,
          "Patient_Mutation_Type_Rank_Max": 514,
          "Patient_Mutation_Type_Rank_Of_One": 0.5350194552529183,
          "Tumor_Sample_Barcode": "TCGA-B5-A11O-01A-11D-A122-09",
          "Variant_Classification": "Missense_Mutation"
         },
         {
          "Hugo_Symbol": "PTEN",
          "Mutation_Type": "C>T TCG",
          "Mutation_Type_Count": 160,
          "Patient_Mutation_Type_Rank": 58,
          "Patient_Mutation_Type_Rank_Max": 514,
          "Patient_Mutation_Type_Rank_Of_One": 0.8871595330739299,
          "Tumor_Sample_Barcode": "TCGA-AX-A0J1-01A-11W-A062-09",
          "Variant_Classification": "Missense_Mutation"
         },
         {
          "Hugo_Symbol": "PTEN",
          "Mutation_Type": "C>A TCG",
          "Mutation_Type_Count": 2,
          "Patient_Mutation_Type_Rank": 113,
          "Patient_Mutation_Type_Rank_Max": 257,
          "Patient_Mutation_Type_Rank_Of_One": 0.5603112840466926,
          "Tumor_Sample_Barcode": "TCGA-B5-A11V-01A-11D-A10M-09",
          "Variant_Classification": "Missense_Mutation"
         },
         {
          "Hugo_Symbol": "PTEN",
          "Mutation_Type": "C>T CCC",
          "Mutation_Type_Count": 4,
          "Patient_Mutation_Type_Rank": 168,
          "Patient_Mutation_Type_Rank_Max": 391,
          "Patient_Mutation_Type_Rank_Of_One": 0.5703324808184143,
          "Tumor_Sample_Barcode": "TCGA-B5-A11V-01A-11D-A10M-09",
          "Variant_Classification": "Missense_Mutation"
         },
         {
          "Hugo_Symbol": "PTEN",
          "Mutation_Type": "C>G ACG",
          "Mutation_Type_Count": 1,
          "Patient_Mutation_Type_Rank": 168,
          "Patient_Mutation_Type_Rank_Max": 190,
          "Patient_Mutation_Type_Rank_Of_One": 0.11578947368421055,
          "Tumor_Sample_Barcode": "TCGA-AJ-A3NG-01A-11D-A228-09",
          "Variant_Classification": "Missense_Mutation"
         },
         {
          "Hugo_Symbol": "PTEN",
          "Mutation_Type": "C>T TCG",
          "Mutation_Type_Count": 3,
          "Patient_Mutation_Type_Rank": 405,
          "Patient_Mutation_Type_Rank_Max": 514,
          "Patient_Mutation_Type_Rank_Of_One": 0.21206225680933855,
          "Tumor_Sample_Barcode": "TCGA-AJ-A3NG-01A-11D-A228-09",
          "Variant_Classification": "Missense_Mutation"
         },
         {
          "Hugo_Symbol": "PTEN",
          "Mutation_Type": "C>T CCG",
          "Mutation_Type_Count": 300,
          "Patient_Mutation_Type_Rank": 27,
          "Patient_Mutation_Type_Rank_Max": 525,
          "Patient_Mutation_Type_Rank_Of_One": 0.9485714285714286,
          "Tumor_Sample_Barcode": "TCGA-A5-A0VP-01A-21D-A10B-09",
          "Variant_Classification": "Missense_Mutation"
         },
         {
          "Hugo_Symbol": "PTEN",
          "Mutation_Type": "T>G CTC",
          "Mutation_Type_Count": 2,
          "Patient_Mutation_Type_Rank": 126,
          "Patient_Mutation_Type_Rank_Max": 221,
          "Patient_Mutation_Type_Rank_Of_One": 0.4298642533936652,
          "Tumor_Sample_Barcode": "TCGA-A5-A0VP-01A-21D-A10B-09",
          "Variant_Classification": "Missense_Mutation"
         },
         {
          "Hugo_Symbol": "PTEN",
          "Mutation_Type": "C>T GCG",
          "Mutation_Type_Count": 372,
          "Patient_Mutation_Type_Rank": 35,
          "Patient_Mutation_Type_Rank_Max": 524,
          "Patient_Mutation_Type_Rank_Of_One": 0.933206106870229,
          "Tumor_Sample_Barcode": "TCGA-A5-A0VP-01A-21D-A10B-09",
          "Variant_Classification": "Missense_Mutation"
         },
         {
          "Hugo_Symbol": "PTEN",
          "Mutation_Type": "C>T ACG",
          "Mutation_Type_Count": 399,
          "Patient_Mutation_Type_Rank": 27,
          "Patient_Mutation_Type_Rank_Max": 524,
          "Patient_Mutation_Type_Rank_Of_One": 0.9484732824427481,
          "Tumor_Sample_Barcode": "TCGA-A5-A0VP-01A-21D-A10B-09",
          "Variant_Classification": "Nonsense_Mutation"
         },
         {
          "Hugo_Symbol": "PTEN",
          "Mutation_Type": "C>G ACG",
          "Mutation_Type_Count": 1,
          "Patient_Mutation_Type_Rank": 171,
          "Patient_Mutation_Type_Rank_Max": 190,
          "Patient_Mutation_Type_Rank_Of_One": 0.09999999999999998,
          "Tumor_Sample_Barcode": "TCGA-DI-A1C3-01A-41D-A135-09",
          "Variant_Classification": "Missense_Mutation"
         },
         {
          "Hugo_Symbol": "PTEN",
          "Mutation_Type": "C>A CCC",
          "Mutation_Type_Count": 145,
          "Patient_Mutation_Type_Rank": 4,
          "Patient_Mutation_Type_Rank_Max": 336,
          "Patient_Mutation_Type_Rank_Of_One": 0.9880952380952381,
          "Tumor_Sample_Barcode": "TCGA-B5-A1MX-01A-11D-A142-09",
          "Variant_Classification": "Nonsense_Mutation"
         },
         {
          "Hugo_Symbol": "PTEN",
          "Mutation_Type": "C>T CCG",
          "Mutation_Type_Count": 7,
          "Patient_Mutation_Type_Rank": 316,
          "Patient_Mutation_Type_Rank_Max": 525,
          "Patient_Mutation_Type_Rank_Of_One": 0.39809523809523806,
          "Tumor_Sample_Barcode": "TCGA-D1-A102-01A-11D-A10M-09",
          "Variant_Classification": "Nonsense_Mutation"
         },
         {
          "Hugo_Symbol": "PTEN",
          "Mutation_Type": "C>A TCT",
          "Mutation_Type_Count": 3,
          "Patient_Mutation_Type_Rank": 188,
          "Patient_Mutation_Type_Rank_Max": 389,
          "Patient_Mutation_Type_Rank_Of_One": 0.5167095115681234,
          "Tumor_Sample_Barcode": "TCGA-BS-A0TI-01A-11D-A10B-09",
          "Variant_Classification": "Nonsense_Mutation"
         },
         {
          "Hugo_Symbol": "PTEN",
          "Mutation_Type": "C>G ACG",
          "Mutation_Type_Count": 3,
          "Patient_Mutation_Type_Rank": 11,
          "Patient_Mutation_Type_Rank_Max": 190,
          "Patient_Mutation_Type_Rank_Of_One": 0.9421052631578948,
          "Tumor_Sample_Barcode": "TCGA-D1-A17D-01A-12D-A12J-09",
          "Variant_Classification": "Missense_Mutation"
         },
         {
          "Hugo_Symbol": "PTEN",
          "Mutation_Type": "C>G ACT",
          "Mutation_Type_Count": 3,
          "Patient_Mutation_Type_Rank": 59,
          "Patient_Mutation_Type_Rank_Max": 261,
          "Patient_Mutation_Type_Rank_Of_One": 0.7739463601532567,
          "Tumor_Sample_Barcode": "TCGA-D1-A17D-01A-12D-A12J-09",
          "Variant_Classification": "Nonsense_Mutation"
         },
         {
          "Hugo_Symbol": "PTEN",
          "Mutation_Type": "C>A TCC",
          "Mutation_Type_Count": 3,
          "Patient_Mutation_Type_Rank": 159,
          "Patient_Mutation_Type_Rank_Max": 391,
          "Patient_Mutation_Type_Rank_Of_One": 0.5933503836317136,
          "Tumor_Sample_Barcode": "TCGA-BS-A0TA-01A-11D-A10B-09",
          "Variant_Classification": "Missense_Mutation"
         },
         {
          "Hugo_Symbol": "PTEN",
          "Mutation_Type": "C>T ACG",
          "Mutation_Type_Count": 9,
          "Patient_Mutation_Type_Rank": 266,
          "Patient_Mutation_Type_Rank_Max": 524,
          "Patient_Mutation_Type_Rank_Of_One": 0.49236641221374045,
          "Tumor_Sample_Barcode": "TCGA-BG-A0M9-01A-21W-A10C-09",
          "Variant_Classification": "Nonsense_Mutation"
         },
         {
          "Hugo_Symbol": "PTEN",
          "Mutation_Type": "C>G ACG",
          "Mutation_Type_Count": 1,
          "Patient_Mutation_Type_Rank": 176,
          "Patient_Mutation_Type_Rank_Max": 190,
          "Patient_Mutation_Type_Rank_Of_One": 0.0736842105263158,
          "Tumor_Sample_Barcode": "TCGA-EY-A2OM-01A-11D-A18P-09",
          "Variant_Classification": "Missense_Mutation"
         },
         {
          "Hugo_Symbol": "PTEN",
          "Mutation_Type": "C>A TCC",
          "Mutation_Type_Count": 2,
          "Patient_Mutation_Type_Rank": 226,
          "Patient_Mutation_Type_Rank_Max": 391,
          "Patient_Mutation_Type_Rank_Of_One": 0.421994884910486,
          "Tumor_Sample_Barcode": "TCGA-BS-A0U8-01A-11D-A10B-09",
          "Variant_Classification": "Nonsense_Mutation"
         },
         {
          "Hugo_Symbol": "PTEN",
          "Mutation_Type": "C>G TCA",
          "Mutation_Type_Count": 1,
          "Patient_Mutation_Type_Rank": 207,
          "Patient_Mutation_Type_Rank_Max": 224,
          "Patient_Mutation_Type_Rank_Of_One": 0.0758928571428571,
          "Tumor_Sample_Barcode": "TCGA-D1-A16E-01A-22D-A12J-09",
          "Variant_Classification": "Missense_Mutation"
         },
         {
          "Hugo_Symbol": "PTEN",
          "Mutation_Type": "T>G ATT",
          "Mutation_Type_Count": 1,
          "Patient_Mutation_Type_Rank": 168,
          "Patient_Mutation_Type_Rank_Max": 177,
          "Patient_Mutation_Type_Rank_Of_One": 0.05084745762711862,
          "Tumor_Sample_Barcode": "TCGA-B5-A0K6-01A-11W-A062-09",
          "Variant_Classification": "Missense_Mutation"
         },
         {
          "Hugo_Symbol": "PTEN",
          "Mutation_Type": "C>T GCG",
          "Mutation_Type_Count": 37,
          "Patient_Mutation_Type_Rank": 188,
          "Patient_Mutation_Type_Rank_Max": 524,
          "Patient_Mutation_Type_Rank_Of_One": 0.6412213740458015,
          "Tumor_Sample_Barcode": "TCGA-B5-A0K6-01A-11W-A062-09",
          "Variant_Classification": "Missense_Mutation"
         },
         {
          "Hugo_Symbol": "PTEN",
          "Mutation_Type": "C>T ACG",
          "Mutation_Type_Count": 263,
          "Patient_Mutation_Type_Rank": 33,
          "Patient_Mutation_Type_Rank_Max": 524,
          "Patient_Mutation_Type_Rank_Of_One": 0.9370229007633588,
          "Tumor_Sample_Barcode": "TCGA-B5-A11Y-01A-21D-A10M-09",
          "Variant_Classification": "Nonsense_Mutation"
         },
         {
          "Hugo_Symbol": "PTEN",
          "Mutation_Type": "T>C ATG",
          "Mutation_Type_Count": 56,
          "Patient_Mutation_Type_Rank": 24,
          "Patient_Mutation_Type_Rank_Max": 349,
          "Patient_Mutation_Type_Rank_Of_One": 0.9312320916905444,
          "Tumor_Sample_Barcode": "TCGA-AX-A0J0-01A-11D-A117-09",
          "Variant_Classification": "Missense_Mutation"
         },
         {
          "Hugo_Symbol": "PTEN",
          "Mutation_Type": "C>T GCA",
          "Mutation_Type_Count": 22,
          "Patient_Mutation_Type_Rank": 130,
          "Patient_Mutation_Type_Rank_Max": 390,
          "Patient_Mutation_Type_Rank_Of_One": 0.6666666666666667,
          "Tumor_Sample_Barcode": "TCGA-B5-A0JU-01B-11D-A14G-09",
          "Variant_Classification": "Missense_Mutation"
         },
         {
          "Hugo_Symbol": "PTEN",
          "Mutation_Type": "C>T ACG",
          "Mutation_Type_Count": 46,
          "Patient_Mutation_Type_Rank": 143,
          "Patient_Mutation_Type_Rank_Max": 524,
          "Patient_Mutation_Type_Rank_Of_One": 0.7270992366412214,
          "Tumor_Sample_Barcode": "TCGA-B5-A0JU-01B-11D-A14G-09",
          "Variant_Classification": "Nonsense_Mutation"
         },
         {
          "Hugo_Symbol": "PTEN",
          "Mutation_Type": "C>T TCG",
          "Mutation_Type_Count": 5,
          "Patient_Mutation_Type_Rank": 316,
          "Patient_Mutation_Type_Rank_Max": 514,
          "Patient_Mutation_Type_Rank_Of_One": 0.38521400778210113,
          "Tumor_Sample_Barcode": "TCGA-AJ-A2QN-01A-11D-A18P-09",
          "Variant_Classification": "Missense_Mutation"
         },
         {
          "Hugo_Symbol": "PTEN",
          "Mutation_Type": "T>A GTC",
          "Mutation_Type_Count": 3,
          "Patient_Mutation_Type_Rank": 54,
          "Patient_Mutation_Type_Rank_Max": 198,
          "Patient_Mutation_Type_Rank_Of_One": 0.7272727272727273,
          "Tumor_Sample_Barcode": "TCGA-EC-A1NJ-01A-31D-A14G-09",
          "Variant_Classification": "Missense_Mutation"
         },
         {
          "Hugo_Symbol": "PTEN",
          "Mutation_Type": "T>A TTG",
          "Mutation_Type_Count": 1,
          "Patient_Mutation_Type_Rank": 150,
          "Patient_Mutation_Type_Rank_Max": 158,
          "Patient_Mutation_Type_Rank_Of_One": 0.05063291139240511,
          "Tumor_Sample_Barcode": "TCGA-D1-A0ZN-01A-11D-A122-09",
          "Variant_Classification": "Nonsense_Mutation"
         },
         {
          "Hugo_Symbol": "PTEN",
          "Mutation_Type": "C>T ACG",
          "Mutation_Type_Count": 15,
          "Patient_Mutation_Type_Rank": 207,
          "Patient_Mutation_Type_Rank_Max": 524,
          "Patient_Mutation_Type_Rank_Of_One": 0.6049618320610687,
          "Tumor_Sample_Barcode": "TCGA-EY-A1G7-01A-11D-A13L-09",
          "Variant_Classification": "Nonsense_Mutation"
         },
         {
          "Hugo_Symbol": "PTEN",
          "Mutation_Type": "C>A TCT",
          "Mutation_Type_Count": 518,
          "Patient_Mutation_Type_Rank": 39,
          "Patient_Mutation_Type_Rank_Max": 389,
          "Patient_Mutation_Type_Rank_Of_One": 0.8997429305912596,
          "Tumor_Sample_Barcode": "TCGA-B5-A11N-01A-11D-A122-09",
          "Variant_Classification": "Nonsense_Mutation"
         },
         {
          "Hugo_Symbol": "PTEN",
          "Mutation_Type": "C>T GCG",
          "Mutation_Type_Count": 111,
          "Patient_Mutation_Type_Rank": 83,
          "Patient_Mutation_Type_Rank_Max": 524,
          "Patient_Mutation_Type_Rank_Of_One": 0.8416030534351145,
          "Tumor_Sample_Barcode": "TCGA-B5-A11N-01A-11D-A122-09",
          "Variant_Classification": "Missense_Mutation"
         },
         {
          "Hugo_Symbol": "PTEN",
          "Mutation_Type": "T>G TTT",
          "Mutation_Type_Count": 156,
          "Patient_Mutation_Type_Rank": 31,
          "Patient_Mutation_Type_Rank_Max": 207,
          "Patient_Mutation_Type_Rank_Of_One": 0.8502415458937198,
          "Tumor_Sample_Barcode": "TCGA-B5-A11N-01A-11D-A122-09",
          "Variant_Classification": "Missense_Mutation"
         },
         {
          "Hugo_Symbol": "PTEN",
          "Mutation_Type": "T>A CTT",
          "Mutation_Type_Count": 3,
          "Patient_Mutation_Type_Rank": 66,
          "Patient_Mutation_Type_Rank_Max": 200,
          "Patient_Mutation_Type_Rank_Of_One": 0.6699999999999999,
          "Tumor_Sample_Barcode": "TCGA-AX-A3FS-01A-11D-A228-09",
          "Variant_Classification": "Missense_Mutation"
         },
         {
          "Hugo_Symbol": "PTEN",
          "Mutation_Type": "C>T GCG",
          "Mutation_Type_Count": 86,
          "Patient_Mutation_Type_Rank": 104,
          "Patient_Mutation_Type_Rank_Max": 524,
          "Patient_Mutation_Type_Rank_Of_One": 0.8015267175572519,
          "Tumor_Sample_Barcode": "TCGA-AX-A3FS-01A-11D-A228-09",
          "Variant_Classification": "Missense_Mutation"
         },
         {
          "Hugo_Symbol": "PTEN",
          "Mutation_Type": "C>T ACG",
          "Mutation_Type_Count": 52,
          "Patient_Mutation_Type_Rank": 127,
          "Patient_Mutation_Type_Rank_Max": 524,
          "Patient_Mutation_Type_Rank_Of_One": 0.7576335877862596,
          "Tumor_Sample_Barcode": "TCGA-AP-A0LE-01A-11D-A127-09",
          "Variant_Classification": "Nonsense_Mutation"
         },
         {
          "Hugo_Symbol": "PTEN",
          "Mutation_Type": "C>T ACG",
          "Mutation_Type_Count": 17,
          "Patient_Mutation_Type_Rank": 200,
          "Patient_Mutation_Type_Rank_Max": 524,
          "Patient_Mutation_Type_Rank_Of_One": 0.6183206106870229,
          "Tumor_Sample_Barcode": "TCGA-AJ-A5DV-01A-11D-A27P-09",
          "Variant_Classification": "Nonsense_Mutation"
         },
         {
          "Hugo_Symbol": "PTEN",
          "Mutation_Type": "C>T TCG",
          "Mutation_Type_Count": 1728,
          "Patient_Mutation_Type_Rank": 16,
          "Patient_Mutation_Type_Rank_Max": 514,
          "Patient_Mutation_Type_Rank_Of_One": 0.9688715953307393,
          "Tumor_Sample_Barcode": "TCGA-BS-A0UF-01A-11D-A10B-09",
          "Variant_Classification": "Missense_Mutation"
         },
         {
          "Hugo_Symbol": "PTEN",
          "Mutation_Type": "T>C TTT",
          "Mutation_Type_Count": 82,
          "Patient_Mutation_Type_Rank": 13,
          "Patient_Mutation_Type_Rank_Max": 271,
          "Patient_Mutation_Type_Rank_Of_One": 0.9520295202952029,
          "Tumor_Sample_Barcode": "TCGA-BS-A0UF-01A-11D-A10B-09",
          "Variant_Classification": "Missense_Mutation"
         },
         {
          "Hugo_Symbol": "PTEN",
          "Mutation_Type": "C>T TCG",
          "Mutation_Type_Count": 15,
          "Patient_Mutation_Type_Rank": 187,
          "Patient_Mutation_Type_Rank_Max": 514,
          "Patient_Mutation_Type_Rank_Of_One": 0.6361867704280155,
          "Tumor_Sample_Barcode": "TCGA-B5-A0K2-01A-12W-A10C-09",
          "Variant_Classification": "Missense_Mutation"
         },
         {
          "Hugo_Symbol": "PTEN",
          "Mutation_Type": "C>T TCG",
          "Mutation_Type_Count": 634,
          "Patient_Mutation_Type_Rank": 36,
          "Patient_Mutation_Type_Rank_Max": 514,
          "Patient_Mutation_Type_Rank_Of_One": 0.9299610894941635,
          "Tumor_Sample_Barcode": "TCGA-EO-A3AY-01A-12D-A19Y-09",
          "Variant_Classification": "Missense_Mutation"
         },
         {
          "Hugo_Symbol": "PTEN",
          "Mutation_Type": "T>G TTT",
          "Mutation_Type_Count": 248,
          "Patient_Mutation_Type_Rank": 24,
          "Patient_Mutation_Type_Rank_Max": 207,
          "Patient_Mutation_Type_Rank_Of_One": 0.8840579710144928,
          "Tumor_Sample_Barcode": "TCGA-EO-A3AY-01A-12D-A19Y-09",
          "Variant_Classification": "Missense_Mutation"
         },
         {
          "Hugo_Symbol": "PTEN",
          "Mutation_Type": "C>G ACG",
          "Mutation_Type_Count": 1,
          "Patient_Mutation_Type_Rank": 187,
          "Patient_Mutation_Type_Rank_Max": 190,
          "Patient_Mutation_Type_Rank_Of_One": 0.015789473684210575,
          "Tumor_Sample_Barcode": "TCGA-EY-A1GE-01A-11D-A13L-09",
          "Variant_Classification": "Missense_Mutation"
         },
         {
          "Hugo_Symbol": "PTEN",
          "Mutation_Type": "C>T TCG",
          "Mutation_Type_Count": 438,
          "Patient_Mutation_Type_Rank": 45,
          "Patient_Mutation_Type_Rank_Max": 514,
          "Patient_Mutation_Type_Rank_Of_One": 0.9124513618677043,
          "Tumor_Sample_Barcode": "TCGA-A5-A0GP-01A-11W-A062-09",
          "Variant_Classification": "Missense_Mutation"
         },
         {
          "Hugo_Symbol": "PTEN",
          "Mutation_Type": "C>T ACG",
          "Mutation_Type_Count": 46,
          "Patient_Mutation_Type_Rank": 144,
          "Patient_Mutation_Type_Rank_Max": 524,
          "Patient_Mutation_Type_Rank_Of_One": 0.7251908396946565,
          "Tumor_Sample_Barcode": "TCGA-A5-A0GP-01A-11W-A062-09",
          "Variant_Classification": "Nonsense_Mutation"
         },
         {
          "Hugo_Symbol": "PTEN",
          "Mutation_Type": "C>T TCG",
          "Mutation_Type_Count": 2591,
          "Patient_Mutation_Type_Rank": 5,
          "Patient_Mutation_Type_Rank_Max": 514,
          "Patient_Mutation_Type_Rank_Of_One": 0.9902723735408561,
          "Tumor_Sample_Barcode": "TCGA-A5-A0G2-01A-11W-A062-09",
          "Variant_Classification": "Missense_Mutation"
         },
         {
          "Hugo_Symbol": "PTEN",
          "Mutation_Type": "C>T GCG",
          "Mutation_Type_Count": 3019,
          "Patient_Mutation_Type_Rank": 2,
          "Patient_Mutation_Type_Rank_Max": 524,
          "Patient_Mutation_Type_Rank_Of_One": 0.9961832061068703,
          "Tumor_Sample_Barcode": "TCGA-A5-A0G2-01A-11W-A062-09",
          "Variant_Classification": "Missense_Mutation"
         },
         {
          "Hugo_Symbol": "PTEN",
          "Mutation_Type": "T>A TTT",
          "Mutation_Type_Count": 40,
          "Patient_Mutation_Type_Rank": 3,
          "Patient_Mutation_Type_Rank_Max": 159,
          "Patient_Mutation_Type_Rank_Of_One": 0.9811320754716981,
          "Tumor_Sample_Barcode": "TCGA-A5-A0G2-01A-11W-A062-09",
          "Variant_Classification": "Missense_Mutation"
         },
         {
          "Hugo_Symbol": "PTEN",
          "Mutation_Type": "T>G TTA",
          "Mutation_Type_Count": 29,
          "Patient_Mutation_Type_Rank": 15,
          "Patient_Mutation_Type_Rank_Max": 106,
          "Patient_Mutation_Type_Rank_Of_One": 0.8584905660377359,
          "Tumor_Sample_Barcode": "TCGA-EY-A1GI-01A-11D-A13L-09",
          "Variant_Classification": "Missense_Mutation"
         },
         {
          "Hugo_Symbol": "PTEN",
          "Mutation_Type": "T>G ATT",
          "Mutation_Type_Count": 60,
          "Patient_Mutation_Type_Rank": 30,
          "Patient_Mutation_Type_Rank_Max": 177,
          "Patient_Mutation_Type_Rank_Of_One": 0.8305084745762712,
          "Tumor_Sample_Barcode": "TCGA-EY-A1GI-01A-11D-A13L-09",
          "Variant_Classification": "Nonsense_Mutation"
         },
         {
          "Hugo_Symbol": "PTEN",
          "Mutation_Type": "C>G TCG",
          "Mutation_Type_Count": 1,
          "Patient_Mutation_Type_Rank": 175,
          "Patient_Mutation_Type_Rank_Max": 184,
          "Patient_Mutation_Type_Rank_Of_One": 0.048913043478260865,
          "Tumor_Sample_Barcode": "TCGA-D1-A169-01A-11D-A12J-09",
          "Variant_Classification": "Missense_Mutation"
         },
         {
          "Hugo_Symbol": "PTEN",
          "Mutation_Type": "C>T ACG",
          "Mutation_Type_Count": 82,
          "Patient_Mutation_Type_Rank": 79,
          "Patient_Mutation_Type_Rank_Max": 524,
          "Patient_Mutation_Type_Rank_Of_One": 0.8492366412213741,
          "Tumor_Sample_Barcode": "TCGA-AX-A2HJ-01A-11D-A17D-09",
          "Variant_Classification": "Nonsense_Mutation"
         },
         {
          "Hugo_Symbol": "PTEN",
          "Mutation_Type": "C>T ACG",
          "Mutation_Type_Count": 11,
          "Patient_Mutation_Type_Rank": 239,
          "Patient_Mutation_Type_Rank_Max": 524,
          "Patient_Mutation_Type_Rank_Of_One": 0.5438931297709924,
          "Tumor_Sample_Barcode": "TCGA-B5-A0K4-01A-11W-A062-09",
          "Variant_Classification": "Nonsense_Mutation"
         },
         {
          "Hugo_Symbol": "PTEN",
          "Mutation_Type": "T>A ATT",
          "Mutation_Type_Count": 2,
          "Patient_Mutation_Type_Rank": 154,
          "Patient_Mutation_Type_Rank_Max": 255,
          "Patient_Mutation_Type_Rank_Of_One": 0.39607843137254906,
          "Tumor_Sample_Barcode": "TCGA-B5-A0JZ-01A-11W-A062-09",
          "Variant_Classification": "Missense_Mutation"
         },
         {
          "Hugo_Symbol": "PTEN",
          "Mutation_Type": "C>T ACG",
          "Mutation_Type_Count": 63,
          "Patient_Mutation_Type_Rank": 111,
          "Patient_Mutation_Type_Rank_Max": 524,
          "Patient_Mutation_Type_Rank_Of_One": 0.7881679389312977,
          "Tumor_Sample_Barcode": "TCGA-FI-A2D6-01A-11D-A17D-09",
          "Variant_Classification": "Nonsense_Mutation"
         },
         {
          "Hugo_Symbol": "PTEN",
          "Mutation_Type": "C>T ACG",
          "Mutation_Type_Count": 146,
          "Patient_Mutation_Type_Rank": 58,
          "Patient_Mutation_Type_Rank_Max": 524,
          "Patient_Mutation_Type_Rank_Of_One": 0.8893129770992366,
          "Tumor_Sample_Barcode": "TCGA-AJ-A3OJ-01A-11D-A228-09",
          "Variant_Classification": "Silent"
         },
         {
          "Hugo_Symbol": "PTEN",
          "Mutation_Type": "T>A GTG",
          "Mutation_Type_Count": 1,
          "Patient_Mutation_Type_Rank": 155,
          "Patient_Mutation_Type_Rank_Max": 159,
          "Patient_Mutation_Type_Rank_Of_One": 0.02515723270440251,
          "Tumor_Sample_Barcode": "TCGA-AJ-A3OL-01A-11D-A228-09",
          "Variant_Classification": "Nonsense_Mutation"
         },
         {
          "Hugo_Symbol": "PTEN",
          "Mutation_Type": "T>A TTA",
          "Mutation_Type_Count": 2,
          "Patient_Mutation_Type_Rank": 41,
          "Patient_Mutation_Type_Rank_Max": 119,
          "Patient_Mutation_Type_Rank_Of_One": 0.6554621848739496,
          "Tumor_Sample_Barcode": "TCGA-D1-A160-01A-11D-A122-09",
          "Variant_Classification": "Nonsense_Mutation"
         },
         {
          "Hugo_Symbol": "PTEN",
          "Mutation_Type": "C>G CCC",
          "Mutation_Type_Count": 1,
          "Patient_Mutation_Type_Rank": 136,
          "Patient_Mutation_Type_Rank_Max": 139,
          "Patient_Mutation_Type_Rank_Of_One": 0.021582733812949617,
          "Tumor_Sample_Barcode": "TCGA-BK-A13B-01A-51D-A228-09",
          "Variant_Classification": "Missense_Mutation"
         },
         {
          "Hugo_Symbol": "PTEN",
          "Mutation_Type": "T>C CTG",
          "Mutation_Type_Count": 18,
          "Patient_Mutation_Type_Rank": 94,
          "Patient_Mutation_Type_Rank_Max": 325,
          "Patient_Mutation_Type_Rank_Of_One": 0.7107692307692308,
          "Tumor_Sample_Barcode": "TCGA-BK-A13B-01A-51D-A228-09",
          "Variant_Classification": "Missense_Mutation"
         },
         {
          "Hugo_Symbol": "PTEN",
          "Mutation_Type": "C>T TCG",
          "Mutation_Type_Count": 7,
          "Patient_Mutation_Type_Rank": 261,
          "Patient_Mutation_Type_Rank_Max": 514,
          "Patient_Mutation_Type_Rank_Of_One": 0.49221789883268485,
          "Tumor_Sample_Barcode": "TCGA-BK-A0CA-01A-21D-A272-09",
          "Variant_Classification": "Missense_Mutation"
         },
         {
          "Hugo_Symbol": "PTEN",
          "Mutation_Type": "T>C GTC",
          "Mutation_Type_Count": 3,
          "Patient_Mutation_Type_Rank": 174,
          "Patient_Mutation_Type_Rank_Max": 296,
          "Patient_Mutation_Type_Rank_Of_One": 0.41216216216216217,
          "Tumor_Sample_Barcode": "TCGA-AX-A06H-01A-11D-A122-09",
          "Variant_Classification": "Missense_Mutation"
         },
         {
          "Hugo_Symbol": "PTEN",
          "Mutation_Type": "C>A TCT",
          "Mutation_Type_Count": 5,
          "Patient_Mutation_Type_Rank": 118,
          "Patient_Mutation_Type_Rank_Max": 389,
          "Patient_Mutation_Type_Rank_Of_One": 0.6966580976863753,
          "Tumor_Sample_Barcode": "TCGA-AX-A06H-01A-11D-A122-09",
          "Variant_Classification": "Nonsense_Mutation"
         },
         {
          "Hugo_Symbol": "PTEN",
          "Mutation_Type": "C>A TCT",
          "Mutation_Type_Count": 1058,
          "Patient_Mutation_Type_Rank": 25,
          "Patient_Mutation_Type_Rank_Max": 389,
          "Patient_Mutation_Type_Rank_Of_One": 0.9357326478149101,
          "Tumor_Sample_Barcode": "TCGA-EO-A22U-01A-11D-A17W-09",
          "Variant_Classification": "Nonsense_Mutation"
         },
         {
          "Hugo_Symbol": "PTEN",
          "Mutation_Type": "C>T CCA",
          "Mutation_Type_Count": 113,
          "Patient_Mutation_Type_Rank": 6,
          "Patient_Mutation_Type_Rank_Max": 398,
          "Patient_Mutation_Type_Rank_Of_One": 0.9849246231155779,
          "Tumor_Sample_Barcode": "TCGA-DF-A2KU-01A-11D-A17W-09",
          "Variant_Classification": "Missense_Mutation"
         },
         {
          "Hugo_Symbol": "PTEN",
          "Mutation_Type": "C>A ACC",
          "Mutation_Type_Count": 3,
          "Patient_Mutation_Type_Rank": 115,
          "Patient_Mutation_Type_Rank_Max": 317,
          "Patient_Mutation_Type_Rank_Of_One": 0.637223974763407,
          "Tumor_Sample_Barcode": "TCGA-BK-A4ZD-01A-11D-A27P-09",
          "Variant_Classification": "Missense_Mutation"
         },
         {
          "Hugo_Symbol": "PTEN",
          "Mutation_Type": "C>T GCA",
          "Mutation_Type_Count": 34,
          "Patient_Mutation_Type_Rank": 84,
          "Patient_Mutation_Type_Rank_Max": 390,
          "Patient_Mutation_Type_Rank_Of_One": 0.7846153846153846,
          "Tumor_Sample_Barcode": "TCGA-A5-A2K7-01A-11D-A17W-09",
          "Variant_Classification": "Missense_Mutation"
         }
        ]
       },
       "encoding": {
        "color": {
         "field": "Variant_Classification",
         "scale": {
          "domain": [
           "Missense_Mutation",
           "Nonsense_Mutation",
           "Silent"
          ],
          "range": [
           "orange",
           "red",
           "green"
          ]
         },
         "type": "nominal"
        },
        "x": {
         "axis": {
          "title": "Patient Total Rank for the Mutation"
         },
         "field": "Patient_Mutation_Type_Rank_Of_One",
         "type": "quantitative"
        },
        "y": {
         "axis": {
          "title": "Present Mutations"
         },
         "field": "Mutation_Type",
         "type": "nominal"
        }
       },
       "height": 500,
       "mark": "point",
       "title": "uterineCorpusEndometrialCarcinoma: PTEN",
       "width": 900
      },
      "image/png": "[encoded data removed]",
      "text/plain": [
       "<VegaLite 2 object>\n",
       "\n",
       "If you see this message, it means the renderer has not been properly enabled\n",
       "for the frontend that you are using. For more information, see\n",
       "https://altair-viz.github.io/user_guide/troubleshooting.html\n"
      ]
     },
     "execution_count": 10,
     "metadata": {},
     "output_type": "execute_result"
    }
   ],
   "source": [
    "df_ranked_gene=df_ranked.loc[df_ranked['Hugo_Symbol']==gene]\n",
    "Chart(df_ranked_gene,title=cancer_type+': '+gene).mark_point().configure_axis(labelFont='Courier New',labelFontSize=12,titleFont='Courier New',titleFontSize=14).configure_legend(titleFont='Courier New',titleFontSize=12,labelFont='Courier New',labelFontSize=12).encode(X('Patient_Mutation_Type_Rank_Of_One',axis=Axis(title='Patient Total Rank for the Mutation')),Y('Mutation_Type',axis=Axis(title='Present Mutations')),Color('Variant_Classification',scale=Scale(domain=['Missense_Mutation','Nonsense_Mutation','Silent'],range=['orange','red','green']))).properties(width=900,height=500)\n"
   ]
  },
  {
   "cell_type": "code",
   "execution_count": null,
   "metadata": {},
   "outputs": [],
   "source": [
    "#df['Mutation_Type'].unique()\n",
    "#df['Tumor_Sample_Barcode'].unique()"
   ]
  },
  {
   "cell_type": "markdown",
   "metadata": {},
   "source": [
    "### "
   ]
  }
 ],
 "metadata": {
  "kernelspec": {
   "display_name": "Python 3",
   "language": "python",
   "name": "python3"
  },
  "language_info": {
   "codemirror_mode": {
    "name": "ipython",
    "version": 3
   },
   "file_extension": ".py",
   "mimetype": "text/x-python",
   "name": "python",
   "nbconvert_exporter": "python",
   "pygments_lexer": "ipython3",
   "version": "3.7.4"
  }
 },
 "nbformat": 4,
 "nbformat_minor": 4
}
